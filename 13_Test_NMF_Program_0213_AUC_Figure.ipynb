{
 "cells": [
  {
   "cell_type": "code",
   "execution_count": null,
   "id": "677eef09",
   "metadata": {},
   "outputs": [],
   "source": [
    "rm(list = ls())\n",
    "gc()\n",
    "\n",
    "setwd(\"/mnt/data00/minghui/project_NMF/06_Test_NMF_Program_0213/\")\n",
    "library(Seurat)\n",
    "library(dplyr)\n",
    "library(cowplot)\n",
    "library(harmony)\n",
    "library(readr) \n",
    "library(tidyr)\n",
    "library(gplots)\n",
    "library(reshape2)\n",
    "library(paletteer)\n",
    "library(AUCell)\n",
    "library(pheatmap)\n",
    "suppressPackageStartupMessages(library(NMF))\n",
    "suppressMessages(library(ggplot2))\n",
    "suppressMessages(library(tidyverse))\n",
    "suppressMessages(library(scibet))\n",
    "suppressMessages(library(viridis))\n",
    "suppressMessages(library(ggsci))\n",
    " \n",
    "d_palettes<- palettes_d_names\n",
    "mycol<-paletteer_d( \"ggsci::default_igv\",n=51)\n",
    "\n",
    "# source('../Fuctions/Markers_kno.R')\n",
    "# source('../Fuctions/seurat_functions.R')\n",
    "\n",
    "library(ComplexHeatmap)\n",
    "library(circlize)\n",
    "\n",
    "library(scater)\n",
    "\n",
    "\n",
    "library(htmlwidgets)\n",
    "\n",
    "library(GSVA)\n",
    "\n",
    "library(corrplot)\n",
    "\n",
    "\n",
    "library(patchwork)\n"
   ]
  },
  {
   "cell_type": "code",
   "execution_count": 2,
   "id": "efe34ebf",
   "metadata": {},
   "outputs": [],
   "source": [
    "AllTissue_merge <-readRDS('../02_NMFAllTissue/03_AllTissue_merge.rds')"
   ]
  },
  {
   "cell_type": "markdown",
   "id": "4f8ee55d",
   "metadata": {},
   "source": [
    "# A heatmap or the correlation confusion plot "
   ]
  },
  {
   "cell_type": "code",
   "execution_count": 3,
   "id": "ac03a875",
   "metadata": {},
   "outputs": [],
   "source": [
    "Healthy_moduleScore <- readRDS('./02_Healthy_moduleScore.rds')"
   ]
  },
  {
   "cell_type": "code",
   "execution_count": 4,
   "id": "ccb53837",
   "metadata": {},
   "outputs": [
    {
     "data": {
      "text/html": [
       "<table class=\"dataframe\">\n",
       "<caption>A data.frame: 6 × 17</caption>\n",
       "<thead>\n",
       "\t<tr><th></th><th scope=col>BE_module1</th><th scope=col>BE_module3</th><th scope=col>BE_module4</th><th scope=col>BE_module5</th><th scope=col>BE_module6</th><th scope=col>BE_module7</th><th scope=col>BE_module8</th><th scope=col>BE_module10</th><th scope=col>BE_module11</th><th scope=col>BE_module12</th><th scope=col>BE_module14</th><th scope=col>BE_module15</th><th scope=col>BE_module16</th><th scope=col>BE_module17</th><th scope=col>BE_module18</th><th scope=col>BE_module19</th><th scope=col>BE_module21</th></tr>\n",
       "\t<tr><th></th><th scope=col>&lt;dbl&gt;</th><th scope=col>&lt;dbl&gt;</th><th scope=col>&lt;dbl&gt;</th><th scope=col>&lt;dbl&gt;</th><th scope=col>&lt;dbl&gt;</th><th scope=col>&lt;dbl&gt;</th><th scope=col>&lt;dbl&gt;</th><th scope=col>&lt;dbl&gt;</th><th scope=col>&lt;dbl&gt;</th><th scope=col>&lt;dbl&gt;</th><th scope=col>&lt;dbl&gt;</th><th scope=col>&lt;dbl&gt;</th><th scope=col>&lt;dbl&gt;</th><th scope=col>&lt;dbl&gt;</th><th scope=col>&lt;dbl&gt;</th><th scope=col>&lt;dbl&gt;</th><th scope=col>&lt;dbl&gt;</th></tr>\n",
       "</thead>\n",
       "<tbody>\n",
       "\t<tr><th scope=row>SRR8513799-CTCACACGTCACCCAG-1</th><td>0.1550850</td><td>0.2526822</td><td>0.06129739</td><td>0.2188196</td><td>0.2493345</td><td>0.4448295</td><td>0.1777360</td><td>0.6041700</td><td>0.16490311</td><td>0.16345655</td><td>0.16250000</td><td>0.7843992</td><td>0.18755441</td><td>0.1980326</td><td>0.9714024</td><td>0.3293303</td><td>0.3863923</td></tr>\n",
       "\t<tr><th scope=row>SRR8513799-TACAGTGGTCATCCCT-1</th><td>0.1316673</td><td>0.2318313</td><td>0.19529913</td><td>0.2978776</td><td>0.2890661</td><td>0.5235595</td><td>0.1272618</td><td>0.3631629</td><td>0.12318697</td><td>0.11749382</td><td>0.09530201</td><td>0.8194613</td><td>0.19878126</td><td>0.2211749</td><td>0.9418884</td><td>0.3262650</td><td>0.2179756</td></tr>\n",
       "\t<tr><th scope=row>SRR8513799-GCACATACACTGTCGG-1</th><td>0.1674745</td><td>0.1851385</td><td>0.16516075</td><td>0.2135012</td><td>0.3029051</td><td>0.5326612</td><td>0.1636309</td><td>0.3497916</td><td>0.11810447</td><td>0.14177169</td><td>0.09052013</td><td>0.8098503</td><td>0.17566716</td><td>0.2338687</td><td>0.9772823</td><td>0.2670166</td><td>0.3791379</td></tr>\n",
       "\t<tr><th scope=row>SRR8513799-CTGAAACTCTGGCGAC-1</th><td>0.1839847</td><td>0.1943278</td><td>0.14726983</td><td>0.3199673</td><td>0.2393197</td><td>0.4522159</td><td>0.1175674</td><td>0.2070269</td><td>0.29442714</td><td>0.11704758</td><td>0.10461409</td><td>0.8323738</td><td>0.20832708</td><td>0.1673095</td><td>0.9882021</td><td>0.1861432</td><td>0.1988469</td></tr>\n",
       "\t<tr><th scope=row>SRR8513799-AGTAGTCAGTGAAGAG-1</th><td>0.1839111</td><td>0.2218957</td><td>0.15750608</td><td>0.1803542</td><td>0.2302345</td><td>0.3631240</td><td>0.1599127</td><td>0.3584437</td><td>0.07611450</td><td>0.06846771</td><td>0.00000000</td><td>0.7419980</td><td>0.10911656</td><td>0.5118768</td><td>0.9741896</td><td>0.2280495</td><td>0.3802069</td></tr>\n",
       "\t<tr><th scope=row>SRR8513799-ATCCGAACAACGATGG-1</th><td>0.1229569</td><td>0.2474111</td><td>0.34851259</td><td>0.1746896</td><td>0.4248046</td><td>0.6117062</td><td>0.3250188</td><td>0.3044256</td><td>0.07648053</td><td>0.04707230</td><td>0.19236577</td><td>0.4978345</td><td>0.07057305</td><td>0.5531151</td><td>0.9891566</td><td>0.0408566</td><td>0.4649307</td></tr>\n",
       "</tbody>\n",
       "</table>\n"
      ],
      "text/latex": [
       "A data.frame: 6 × 17\n",
       "\\begin{tabular}{r|lllllllllllllllll}\n",
       "  & BE\\_module1 & BE\\_module3 & BE\\_module4 & BE\\_module5 & BE\\_module6 & BE\\_module7 & BE\\_module8 & BE\\_module10 & BE\\_module11 & BE\\_module12 & BE\\_module14 & BE\\_module15 & BE\\_module16 & BE\\_module17 & BE\\_module18 & BE\\_module19 & BE\\_module21\\\\\n",
       "  & <dbl> & <dbl> & <dbl> & <dbl> & <dbl> & <dbl> & <dbl> & <dbl> & <dbl> & <dbl> & <dbl> & <dbl> & <dbl> & <dbl> & <dbl> & <dbl> & <dbl>\\\\\n",
       "\\hline\n",
       "\tSRR8513799-CTCACACGTCACCCAG-1 & 0.1550850 & 0.2526822 & 0.06129739 & 0.2188196 & 0.2493345 & 0.4448295 & 0.1777360 & 0.6041700 & 0.16490311 & 0.16345655 & 0.16250000 & 0.7843992 & 0.18755441 & 0.1980326 & 0.9714024 & 0.3293303 & 0.3863923\\\\\n",
       "\tSRR8513799-TACAGTGGTCATCCCT-1 & 0.1316673 & 0.2318313 & 0.19529913 & 0.2978776 & 0.2890661 & 0.5235595 & 0.1272618 & 0.3631629 & 0.12318697 & 0.11749382 & 0.09530201 & 0.8194613 & 0.19878126 & 0.2211749 & 0.9418884 & 0.3262650 & 0.2179756\\\\\n",
       "\tSRR8513799-GCACATACACTGTCGG-1 & 0.1674745 & 0.1851385 & 0.16516075 & 0.2135012 & 0.3029051 & 0.5326612 & 0.1636309 & 0.3497916 & 0.11810447 & 0.14177169 & 0.09052013 & 0.8098503 & 0.17566716 & 0.2338687 & 0.9772823 & 0.2670166 & 0.3791379\\\\\n",
       "\tSRR8513799-CTGAAACTCTGGCGAC-1 & 0.1839847 & 0.1943278 & 0.14726983 & 0.3199673 & 0.2393197 & 0.4522159 & 0.1175674 & 0.2070269 & 0.29442714 & 0.11704758 & 0.10461409 & 0.8323738 & 0.20832708 & 0.1673095 & 0.9882021 & 0.1861432 & 0.1988469\\\\\n",
       "\tSRR8513799-AGTAGTCAGTGAAGAG-1 & 0.1839111 & 0.2218957 & 0.15750608 & 0.1803542 & 0.2302345 & 0.3631240 & 0.1599127 & 0.3584437 & 0.07611450 & 0.06846771 & 0.00000000 & 0.7419980 & 0.10911656 & 0.5118768 & 0.9741896 & 0.2280495 & 0.3802069\\\\\n",
       "\tSRR8513799-ATCCGAACAACGATGG-1 & 0.1229569 & 0.2474111 & 0.34851259 & 0.1746896 & 0.4248046 & 0.6117062 & 0.3250188 & 0.3044256 & 0.07648053 & 0.04707230 & 0.19236577 & 0.4978345 & 0.07057305 & 0.5531151 & 0.9891566 & 0.0408566 & 0.4649307\\\\\n",
       "\\end{tabular}\n"
      ],
      "text/markdown": [
       "\n",
       "A data.frame: 6 × 17\n",
       "\n",
       "| <!--/--> | BE_module1 &lt;dbl&gt; | BE_module3 &lt;dbl&gt; | BE_module4 &lt;dbl&gt; | BE_module5 &lt;dbl&gt; | BE_module6 &lt;dbl&gt; | BE_module7 &lt;dbl&gt; | BE_module8 &lt;dbl&gt; | BE_module10 &lt;dbl&gt; | BE_module11 &lt;dbl&gt; | BE_module12 &lt;dbl&gt; | BE_module14 &lt;dbl&gt; | BE_module15 &lt;dbl&gt; | BE_module16 &lt;dbl&gt; | BE_module17 &lt;dbl&gt; | BE_module18 &lt;dbl&gt; | BE_module19 &lt;dbl&gt; | BE_module21 &lt;dbl&gt; |\n",
       "|---|---|---|---|---|---|---|---|---|---|---|---|---|---|---|---|---|---|\n",
       "| SRR8513799-CTCACACGTCACCCAG-1 | 0.1550850 | 0.2526822 | 0.06129739 | 0.2188196 | 0.2493345 | 0.4448295 | 0.1777360 | 0.6041700 | 0.16490311 | 0.16345655 | 0.16250000 | 0.7843992 | 0.18755441 | 0.1980326 | 0.9714024 | 0.3293303 | 0.3863923 |\n",
       "| SRR8513799-TACAGTGGTCATCCCT-1 | 0.1316673 | 0.2318313 | 0.19529913 | 0.2978776 | 0.2890661 | 0.5235595 | 0.1272618 | 0.3631629 | 0.12318697 | 0.11749382 | 0.09530201 | 0.8194613 | 0.19878126 | 0.2211749 | 0.9418884 | 0.3262650 | 0.2179756 |\n",
       "| SRR8513799-GCACATACACTGTCGG-1 | 0.1674745 | 0.1851385 | 0.16516075 | 0.2135012 | 0.3029051 | 0.5326612 | 0.1636309 | 0.3497916 | 0.11810447 | 0.14177169 | 0.09052013 | 0.8098503 | 0.17566716 | 0.2338687 | 0.9772823 | 0.2670166 | 0.3791379 |\n",
       "| SRR8513799-CTGAAACTCTGGCGAC-1 | 0.1839847 | 0.1943278 | 0.14726983 | 0.3199673 | 0.2393197 | 0.4522159 | 0.1175674 | 0.2070269 | 0.29442714 | 0.11704758 | 0.10461409 | 0.8323738 | 0.20832708 | 0.1673095 | 0.9882021 | 0.1861432 | 0.1988469 |\n",
       "| SRR8513799-AGTAGTCAGTGAAGAG-1 | 0.1839111 | 0.2218957 | 0.15750608 | 0.1803542 | 0.2302345 | 0.3631240 | 0.1599127 | 0.3584437 | 0.07611450 | 0.06846771 | 0.00000000 | 0.7419980 | 0.10911656 | 0.5118768 | 0.9741896 | 0.2280495 | 0.3802069 |\n",
       "| SRR8513799-ATCCGAACAACGATGG-1 | 0.1229569 | 0.2474111 | 0.34851259 | 0.1746896 | 0.4248046 | 0.6117062 | 0.3250188 | 0.3044256 | 0.07648053 | 0.04707230 | 0.19236577 | 0.4978345 | 0.07057305 | 0.5531151 | 0.9891566 | 0.0408566 | 0.4649307 |\n",
       "\n"
      ],
      "text/plain": [
       "                              BE_module1 BE_module3 BE_module4 BE_module5\n",
       "SRR8513799-CTCACACGTCACCCAG-1 0.1550850  0.2526822  0.06129739 0.2188196 \n",
       "SRR8513799-TACAGTGGTCATCCCT-1 0.1316673  0.2318313  0.19529913 0.2978776 \n",
       "SRR8513799-GCACATACACTGTCGG-1 0.1674745  0.1851385  0.16516075 0.2135012 \n",
       "SRR8513799-CTGAAACTCTGGCGAC-1 0.1839847  0.1943278  0.14726983 0.3199673 \n",
       "SRR8513799-AGTAGTCAGTGAAGAG-1 0.1839111  0.2218957  0.15750608 0.1803542 \n",
       "SRR8513799-ATCCGAACAACGATGG-1 0.1229569  0.2474111  0.34851259 0.1746896 \n",
       "                              BE_module6 BE_module7 BE_module8 BE_module10\n",
       "SRR8513799-CTCACACGTCACCCAG-1 0.2493345  0.4448295  0.1777360  0.6041700  \n",
       "SRR8513799-TACAGTGGTCATCCCT-1 0.2890661  0.5235595  0.1272618  0.3631629  \n",
       "SRR8513799-GCACATACACTGTCGG-1 0.3029051  0.5326612  0.1636309  0.3497916  \n",
       "SRR8513799-CTGAAACTCTGGCGAC-1 0.2393197  0.4522159  0.1175674  0.2070269  \n",
       "SRR8513799-AGTAGTCAGTGAAGAG-1 0.2302345  0.3631240  0.1599127  0.3584437  \n",
       "SRR8513799-ATCCGAACAACGATGG-1 0.4248046  0.6117062  0.3250188  0.3044256  \n",
       "                              BE_module11 BE_module12 BE_module14 BE_module15\n",
       "SRR8513799-CTCACACGTCACCCAG-1 0.16490311  0.16345655  0.16250000  0.7843992  \n",
       "SRR8513799-TACAGTGGTCATCCCT-1 0.12318697  0.11749382  0.09530201  0.8194613  \n",
       "SRR8513799-GCACATACACTGTCGG-1 0.11810447  0.14177169  0.09052013  0.8098503  \n",
       "SRR8513799-CTGAAACTCTGGCGAC-1 0.29442714  0.11704758  0.10461409  0.8323738  \n",
       "SRR8513799-AGTAGTCAGTGAAGAG-1 0.07611450  0.06846771  0.00000000  0.7419980  \n",
       "SRR8513799-ATCCGAACAACGATGG-1 0.07648053  0.04707230  0.19236577  0.4978345  \n",
       "                              BE_module16 BE_module17 BE_module18 BE_module19\n",
       "SRR8513799-CTCACACGTCACCCAG-1 0.18755441  0.1980326   0.9714024   0.3293303  \n",
       "SRR8513799-TACAGTGGTCATCCCT-1 0.19878126  0.2211749   0.9418884   0.3262650  \n",
       "SRR8513799-GCACATACACTGTCGG-1 0.17566716  0.2338687   0.9772823   0.2670166  \n",
       "SRR8513799-CTGAAACTCTGGCGAC-1 0.20832708  0.1673095   0.9882021   0.1861432  \n",
       "SRR8513799-AGTAGTCAGTGAAGAG-1 0.10911656  0.5118768   0.9741896   0.2280495  \n",
       "SRR8513799-ATCCGAACAACGATGG-1 0.07057305  0.5531151   0.9891566   0.0408566  \n",
       "                              BE_module21\n",
       "SRR8513799-CTCACACGTCACCCAG-1 0.3863923  \n",
       "SRR8513799-TACAGTGGTCATCCCT-1 0.2179756  \n",
       "SRR8513799-GCACATACACTGTCGG-1 0.3791379  \n",
       "SRR8513799-CTGAAACTCTGGCGAC-1 0.1988469  \n",
       "SRR8513799-AGTAGTCAGTGAAGAG-1 0.3802069  \n",
       "SRR8513799-ATCCGAACAACGATGG-1 0.4649307  "
      ]
     },
     "metadata": {},
     "output_type": "display_data"
    }
   ],
   "source": [
    "BE_moduleScore <-readRDS(\"/mnt/data00/minghui/project_NMF/04_Test_NMF_Program_0120/05_moduleScore.rds\") %>% t()%>% as.data.frame\n",
    "\n",
    "BE_moduleScore <- BE_moduleScore[,grepl(pattern = 'BE',x = colnames(BE_moduleScore))]\n",
    "\n",
    "colnames(BE_moduleScore) <- gsub('modules','module',colnames(BE_moduleScore) )\n",
    "\n",
    "head(BE_moduleScore )"
   ]
  },
  {
   "cell_type": "code",
   "execution_count": 5,
   "id": "ab95e8ea",
   "metadata": {},
   "outputs": [
    {
     "data": {
      "text/html": [
       "TRUE"
      ],
      "text/latex": [
       "TRUE"
      ],
      "text/markdown": [
       "TRUE"
      ],
      "text/plain": [
       "[1] TRUE"
      ]
     },
     "metadata": {},
     "output_type": "display_data"
    }
   ],
   "source": [
    "identical(rownames(t(Healthy_moduleScore)),rownames(BE_moduleScore))"
   ]
  },
  {
   "cell_type": "code",
   "execution_count": 6,
   "id": "ae0a9d16",
   "metadata": {},
   "outputs": [],
   "source": [
    "cor_matrix <- cor(x = t(Healthy_moduleScore) ,y = BE_moduleScore ,method = \"spearman\")"
   ]
  },
  {
   "cell_type": "code",
   "execution_count": 7,
   "id": "187be7c8",
   "metadata": {},
   "outputs": [
    {
     "ename": "ERROR",
     "evalue": "Error: object 'my_color' not found\n",
     "output_type": "error",
     "traceback": [
      "Error: object 'my_color' not found\nTraceback:\n",
      "1. .handleSimpleError(function (cnd) \n . {\n .     watcher$capture_plot_and_output()\n .     cnd <- sanitize_call(cnd)\n .     watcher$push(cnd)\n .     switch(on_error, continue = invokeRestart(\"eval_continue\"), \n .         stop = invokeRestart(\"eval_stop\"), error = invokeRestart(\"eval_error\", \n .             cnd))\n . }, \"object 'my_color' not found\", base::quote(eval(expr, envir)))"
     ]
    }
   ],
   "source": [
    "# pdf(\"./05_FiguresforPresentation/01_correlation_plot_BE_Healthy_1.pdf\", width = 9, height = 8)\n",
    "# png(\"./05_FiguresforPresentation/01_correlation_plot_BE_Healthy_1.png\", width = 9, height = 8, units = \"in\", res = 300)\n",
    "\n",
    "options(repr.plot.width =9, repr.plot.height=8)\n",
    "\n",
    "corrplot(cor_matrix, type = \"full\", \n",
    "         method = \"pie\",\n",
    "         order = \"hclust\", \n",
    "         col = my_color,\n",
    "         tl.col = \"black\", \n",
    "         tl.srt = 45)\n",
    "\n",
    "# dev.off()"
   ]
  },
  {
   "cell_type": "code",
   "execution_count": null,
   "id": "2beed794",
   "metadata": {},
   "outputs": [],
   "source": [
    "# pdf(\"./05_FiguresforPresentation/01_correlation_plot_BE_Healthy_2.pdf\", width = 9, height = 8)\n",
    "# png(\"./05_FiguresforPresentation/01_correlation_plot_BE_Healthy_2.png\", width = 9, height = 8, units = \"in\", res = 300)\n",
    "options(repr.plot.width =9, repr.plot.height=8)\n",
    "\n",
    "corrplot(cor_matrix, type = \"full\", \n",
    "         method = \"square\",\n",
    "         order = \"hclust\", \n",
    "         col = my_color,\n",
    "         tl.col = \"black\", \n",
    "         tl.srt = 45)\n",
    "#   method = c(\"circle\", \"square\", \"ellipse\", \"number\", \"shade\", \"color\", \"pie\"),\n",
    "# dev.off()"
   ]
  },
  {
   "cell_type": "code",
   "execution_count": null,
   "id": "5fa8bd69",
   "metadata": {
    "scrolled": false
   },
   "outputs": [],
   "source": [
    "# pdf(\"./05_FiguresforPresentation/01_correlation_plot_BE_Healthy_3.pdf\", width = 10, height = 9)\n",
    "# png(\"./05_FiguresforPresentation/01_correlation_plot_BE_Healthy_3.png\", width = 10, height = 9, units = \"in\", res = 300)\n",
    "options(repr.plot.width =9, repr.plot.height=8)\n",
    "\n",
    "corrplot(cor_matrix, type = \"full\", \n",
    "         method = \"number\",\n",
    "         order = \"hclust\", \n",
    "         col = my_color,\n",
    "         tl.col = \"black\", \n",
    "         tl.srt = 45)\n",
    "# dev.off()"
   ]
  },
  {
   "cell_type": "code",
   "execution_count": null,
   "id": "c4276c4f",
   "metadata": {},
   "outputs": [],
   "source": [
    "# threshold <- 0.3\n",
    "\n",
    "# cor_matrix[abs(cor_matrix) <= threshold | p_matrix >= 0.05] <- 0\n",
    "\n",
    "my_color = rev(paletteer_d(\"RColorBrewer::RdYlBu\"))\n",
    "my_color = colorRampPalette(my_color)(10) \n",
    "# pdf(\"./05_FiguresforPresentation/01_correlation_plot_BE_Healthy_4.pdf\", width = 7, height =6)\n",
    "# png(\"./05_FiguresforPresentation/01_correlation_plot_BE_Healthy_4.png\", width = 7, height =6, units = \"in\", res = 300)\n",
    "options(repr.plot.width =9, repr.plot.height=8)\n",
    "pheatmap(cor_matrix,color =my_color ,fontsize_row = 12,fontsize_col = 12,name = 'Correlation')\n",
    "\n",
    "# dev.off()"
   ]
  },
  {
   "cell_type": "code",
   "execution_count": null,
   "id": "b55707c2",
   "metadata": {},
   "outputs": [],
   "source": [
    "cor_matrix"
   ]
  },
  {
   "cell_type": "markdown",
   "id": "ea921247",
   "metadata": {},
   "source": [
    "# -\t4 radar plots for intestinal, gastric, BE and GIM tissue types using only healthy modules"
   ]
  },
  {
   "cell_type": "code",
   "execution_count": null,
   "id": "3609507d",
   "metadata": {},
   "outputs": [],
   "source": [
    "identical(rownames(t(Healthy_moduleScore)), rownames(BE_moduleScore))"
   ]
  },
  {
   "cell_type": "code",
   "execution_count": null,
   "id": "974872de",
   "metadata": {},
   "outputs": [],
   "source": [
    "# mat <- rbind(rbind(AllTissue_merge@meta.data$Tissue_in_paper , moduleScore),AllTissue_merge@meta.data$Detailed_Cell_Type)\n",
    "\n",
    "Healthy_df <- cbind(data.frame(       'Tissue_in_paper' = AllTissue_merge@meta.data$Tissue_in_paper ,\n",
    "                            'Detailed_Cell_Type' = AllTissue_merge@meta.data$Detailed_Cell_Type ),t(Healthy_moduleScore))"
   ]
  },
  {
   "cell_type": "code",
   "execution_count": null,
   "id": "f83fbc74",
   "metadata": {},
   "outputs": [],
   "source": [
    "scatter_df <- cbind(BE_moduleScore,Healthy_df )\n",
    "\n",
    "scatter_df <- scatter_df[ sample(x = rownames(scatter_df),size = nrow(scatter_df)*0.3) , c('Tissue_in_paper', 'Detailed_Cell_Type',colnames(Healthy_df)[3:18 ] ,colnames(BE_moduleScore))]\n",
    "\n",
    "head(scatter_df)"
   ]
  },
  {
   "cell_type": "code",
   "execution_count": null,
   "id": "88284c4e",
   "metadata": {},
   "outputs": [],
   "source": [
    "scatter_df <- scatter_df[,!grepl('BE',colnames(scatter_df))]"
   ]
  },
  {
   "cell_type": "code",
   "execution_count": null,
   "id": "92b98b5b",
   "metadata": {},
   "outputs": [],
   "source": [
    "scatter_df$Tissuetype <- NA\n",
    "scatter_df$Tissuetype[scatter_df$Tissue_in_paper %in% c('NGB', 'NGC', 'NSCJ')] <- 'Stomach'\n",
    "scatter_df$Tissuetype[scatter_df$Tissue_in_paper %in% c('Colon', 'Ileum', 'ND', 'Rectum')] <- 'Intestine'\n",
    "scatter_df$Tissuetype[scatter_df$Tissue_in_paper %in% c('E-GM', 'BE-IM', 'BSCJ')] <- 'BE'\n",
    "scatter_df$Tissuetype[scatter_df$Tissue_in_paper %in% 'GIM'] <- 'GIM'\n",
    "scatter_df <-scatter_df[!is.na(scatter_df$Tissuetype),]"
   ]
  },
  {
   "cell_type": "code",
   "execution_count": null,
   "id": "58a265ce",
   "metadata": {},
   "outputs": [],
   "source": [
    "scatter_df <- scatter_df %>% select(ncol(scatter_df), everything())"
   ]
  },
  {
   "cell_type": "code",
   "execution_count": null,
   "id": "97346636",
   "metadata": {},
   "outputs": [],
   "source": [
    "scatter_df$Tissuetype %>% table()\n",
    "\n",
    "# scatter_df$Detailed_Cell_Type %>% table()"
   ]
  },
  {
   "cell_type": "code",
   "execution_count": null,
   "id": "a6fb7119",
   "metadata": {},
   "outputs": [],
   "source": [
    "head(scatter_df)"
   ]
  },
  {
   "cell_type": "code",
   "execution_count": null,
   "id": "14e2f6c4",
   "metadata": {
    "scrolled": false
   },
   "outputs": [],
   "source": [
    "table(scatter_df$Tissue_in_paper,scatter_df$Tissuetype)"
   ]
  },
  {
   "cell_type": "code",
   "execution_count": null,
   "id": "87ee7e3a",
   "metadata": {},
   "outputs": [],
   "source": [
    "radar_plot_list  <-split(scatter_df ,scatter_df$Tissuetype)"
   ]
  },
  {
   "cell_type": "code",
   "execution_count": null,
   "id": "d4b89f2a",
   "metadata": {},
   "outputs": [],
   "source": [
    "  radar_plot_df <- radar_plot_list[[1]][, -c(1,2)] %>% \n",
    "    dplyr::group_by(Detailed_Cell_Type) %>% \n",
    "    dplyr::summarise_all(mean) %>%\n",
    "    as.data.frame() \n",
    "\n",
    "# radar_plot_df <- t(radar_plot_df) %>% as.data.frame\n",
    "\n",
    "rownames(radar_plot_df) <- radar_plot_df$Detailed_Cell_Type\n",
    "\n",
    "radar_plot_df <- dplyr::select(radar_plot_df, -Detailed_Cell_Type) \n",
    "\n",
    "radar_plot_df <- t(radar_plot_df) %>% as.data.frame()\n",
    "\n",
    "radar_plot_df[radar_plot_df < 0] <- 0 \n",
    "\n",
    "radar_plot_df$module <- rownames(radar_plot_df)\n",
    "\n",
    "  radar_plot_df <- radar_plot_df[,c('module', colnames(radar_plot_df)[1:ncol(radar_plot_df)-1])]"
   ]
  },
  {
   "cell_type": "code",
   "execution_count": 30,
   "id": "151c7249",
   "metadata": {},
   "outputs": [
    {
     "ename": "ERROR",
     "evalue": "Error: object 'radar_plot_df' not found\n",
     "output_type": "error",
     "traceback": [
      "Error: object 'radar_plot_df' not found\nTraceback:\n",
      "1. .handleSimpleError(function (cnd) \n . {\n .     watcher$capture_plot_and_output()\n .     cnd <- sanitize_call(cnd)\n .     watcher$push(cnd)\n .     switch(on_error, continue = invokeRestart(\"eval_continue\"), \n .         stop = invokeRestart(\"eval_stop\"), error = invokeRestart(\"eval_error\", \n .             cnd))\n . }, \"object 'radar_plot_df' not found\", base::quote(eval(expr, \n .     envir)))"
     ]
    }
   ],
   "source": [
    "mycolor <- c('#D916F2','#27A4F2','#F2CB05','#F29F05','#F25C05',\n",
    "             \n",
    "             '#D94169','#171559','#F2D0A7','#F29F80','#F26363',\n",
    "             \n",
    "             '#B3A815', '#1FC7FF','#FFF005','#FF1F59','#FFD3B6',\n",
    "             \n",
    "             '#DCEDC1', '#F24B88','#A8E6CF','#660373','#F28A80'\n",
    ")\n",
    "\n",
    "\n",
    "# be_colors <- scales::seq_gradient_pal('#fef5f0', \"#990F0F\")(seq(0, 1, length.out = sum(grepl(\"^BE_module\", rownames(radar_plot_df)))))\n",
    "\n",
    "# healthy_colors <- scales::seq_gradient_pal(\"#cac5e4\", \"#260F99\")(seq(0, 1, length.out = sum(grepl(\"^Healthy\", rownames(radar_plot_df)))))\n",
    " \n",
    "# colors <- c(healthy_colors , be_colors)\n",
    "colors <- data.frame('modules' =radar_plot_df$module ,'colors' =rep(mycolor,2)[1:16])\n"
   ]
  },
  {
   "cell_type": "code",
   "execution_count": null,
   "id": "47b1794e",
   "metadata": {},
   "outputs": [],
   "source": [
    "  plot_list <- list()\n",
    "\n",
    "\n",
    "  for(i in 1:nrow(radar_plot_df)){\n",
    "    cur_mod <- as.character(radar_plot_df[i,'module'])\n",
    "    cur_color <- subset(colors, modules == cur_mod) %>% .$colors\n",
    "    plot_list[[cur_mod]] <- ggradar::ggradar(\n",
    "      radar_plot_df[i,], \n",
    "        group.colours=cur_color,\n",
    "          grid.line.width = 0.25,\n",
    "      draw.points=FALSE,\n",
    "        grid.label.size = 3,\n",
    "      fill=TRUE\n",
    "      ) + \n",
    "      Seurat::NoLegend() + \n",
    "      ggtitle(cur_mod) + \n",
    "      theme(\n",
    "        plot.title = element_text(face='plain', hjust=0.3)\n",
    "      )\n",
    "  }"
   ]
  },
  {
   "cell_type": "code",
   "execution_count": null,
   "id": "825b611c",
   "metadata": {},
   "outputs": [],
   "source": [
    "# options(repr.plot.height = 35, repr.plot.width =47)  \n",
    "#     png(paste0('./radar_plot_AUC/',names(radar_plot_list)[6],'.png'),width = 45,height = 45,units = 'in',res = 400)\n",
    "\n",
    "patch <- wrap_plots(plot_list, 3)\n",
    "patch+ \n",
    "  plot_annotation(\n",
    "    title = names(radar_plot_list)[1],\n",
    "    theme = theme(\n",
    "      plot.title = element_text(size = 40, face = \"bold\", hjust = 1)\n",
    "    )\n",
    "  )\n",
    "\n",
    "# dev.off()"
   ]
  },
  {
   "cell_type": "code",
   "execution_count": null,
   "id": "b6214719",
   "metadata": {},
   "outputs": [],
   "source": [
    "plot_list_list <- list()\n",
    "\n",
    "for(i in 1:length(radar_plot_list)){\n",
    "    \n",
    "    radar_plot_df <- radar_plot_list[[i]][, -c(1,2)] %>% \n",
    "    dplyr::group_by(Detailed_Cell_Type) %>% \n",
    "    dplyr::summarise_all(mean) %>%\n",
    "    as.data.frame() \n",
    "\n",
    "# radar_plot_df <- t(radar_plot_df) %>% as.data.frame\n",
    "\n",
    "rownames(radar_plot_df) <- radar_plot_df$Detailed_Cell_Type\n",
    "\n",
    "radar_plot_df <- dplyr::select(radar_plot_df, -Detailed_Cell_Type) \n",
    "\n",
    "radar_plot_df <- t(radar_plot_df) %>% as.data.frame()\n",
    "\n",
    "radar_plot_df[radar_plot_df < 0] <- 0 \n",
    "\n",
    "radar_plot_df$module <- rownames(radar_plot_df)\n",
    "\n",
    "  radar_plot_df <- radar_plot_df[,c('module', colnames(radar_plot_df)[1:ncol(radar_plot_df)-1])]\n",
    "    \n",
    " plot_list <- list()\n",
    "\n",
    "\n",
    "  for(j in 1:nrow(radar_plot_df)){\n",
    "    cur_mod <- as.character(radar_plot_df[j,'module'])\n",
    "    cur_color <- subset(colors, modules == cur_mod) %>% .$colors\n",
    "    plot_list[[cur_mod]] <- ggradar::ggradar(\n",
    "      radar_plot_df[j,], \n",
    "        group.colours=cur_color,\n",
    "          grid.line.width = 0.25,\n",
    "        grid.label.size = 3,\n",
    "      draw.points=FALSE,\n",
    "      fill=TRUE\n",
    "      ) + \n",
    "      Seurat::NoLegend() + \n",
    "      ggtitle(cur_mod) + \n",
    "      theme(\n",
    "        plot.title = element_text(face='plain', hjust=0.3)\n",
    "      )\n",
    "  }\n",
    "    \n",
    " plot_list_list[[i]] <- plot_list\n",
    "    \n",
    "\n",
    "\n",
    "    \n",
    "    print(i)\n",
    "}"
   ]
  },
  {
   "cell_type": "code",
   "execution_count": 90,
   "id": "b65c6aa8",
   "metadata": {},
   "outputs": [],
   "source": [
    "for(i in 1 :length(plot_list_list))    {\n",
    "    \n",
    "#      png(paste0('./radar_plot_AUC/',names(radar_plot_list)[i],'.png'),width = 45,height = 45,units = 'in',res = 250)\n",
    "    \n",
    "        patch <- wrap_plots(plot_list_list[[i]], 3)\n",
    "p <- patch+ \n",
    "  plot_annotation(\n",
    "    title = names(radar_plot_list)[i],\n",
    "    theme = theme(\n",
    "      plot.title = element_text(size = 40, face = \"bold\", hjust = 0.5)\n",
    "    )\n",
    "  )\n",
    "#     dev.off()\n",
    "    \n",
    "    ggsave(filename = paste0('./05_FiguresforPresentation/','02_radar_plot_',names(radar_plot_list)[i],'.pdf'),plot = p ,width = 45,height = 45,units = 'in',dpi = 400)\n",
    "    \n",
    " ggsave(filename = paste0('./05_FiguresforPresentation/','02_radar_plot_',names(radar_plot_list)[i],'.png'),plot = p ,width = 45,height = 45,units = 'in',dpi = 300)\n",
    "\n",
    "}\n",
    "   "
   ]
  },
  {
   "cell_type": "markdown",
   "id": "2f8e977a",
   "metadata": {},
   "source": [
    "# -\tUmap with some nice color scheme for each module"
   ]
  },
  {
   "cell_type": "code",
   "execution_count": 8,
   "id": "c74eb9f8",
   "metadata": {},
   "outputs": [],
   "source": [
    "  # get  reduction from seurat obj\n",
    "  umap <- AllTissue_merge@reductions[['umap']]@cell.embeddings\n",
    "  x_name <- colnames(umap)[1]\n",
    "  y_name <- colnames(umap)[2]"
   ]
  },
  {
   "cell_type": "code",
   "execution_count": 9,
   "id": "85e8c8d1",
   "metadata": {},
   "outputs": [],
   "source": [
    "plot_df <- cbind(cbind(umap, t(Healthy_moduleScore)),BE_moduleScore) %>% as.data.frame()\n",
    "plot_df<- plot_df[sample(1:nrow(plot_df),size = 0.2*nrow(plot_df)),]"
   ]
  },
  {
   "cell_type": "code",
   "execution_count": 10,
   "id": "5862dd7c",
   "metadata": {},
   "outputs": [
    {
     "data": {
      "text/html": [
       "<table class=\"dataframe\">\n",
       "<caption>A data.frame: 6 × 35</caption>\n",
       "<thead>\n",
       "\t<tr><th></th><th scope=col>UMAP_1</th><th scope=col>UMAP_2</th><th scope=col>Healthy_module1</th><th scope=col>Healthy_module2</th><th scope=col>Healthy_module3</th><th scope=col>Healthy_module4</th><th scope=col>Healthy_module5</th><th scope=col>Healthy_module6</th><th scope=col>Healthy_module7</th><th scope=col>Healthy_module8</th><th scope=col>⋯</th><th scope=col>BE_module10</th><th scope=col>BE_module11</th><th scope=col>BE_module12</th><th scope=col>BE_module14</th><th scope=col>BE_module15</th><th scope=col>BE_module16</th><th scope=col>BE_module17</th><th scope=col>BE_module18</th><th scope=col>BE_module19</th><th scope=col>BE_module21</th></tr>\n",
       "\t<tr><th></th><th scope=col>&lt;dbl&gt;</th><th scope=col>&lt;dbl&gt;</th><th scope=col>&lt;dbl&gt;</th><th scope=col>&lt;dbl&gt;</th><th scope=col>&lt;dbl&gt;</th><th scope=col>&lt;dbl&gt;</th><th scope=col>&lt;dbl&gt;</th><th scope=col>&lt;dbl&gt;</th><th scope=col>&lt;dbl&gt;</th><th scope=col>&lt;dbl&gt;</th><th scope=col>⋯</th><th scope=col>&lt;dbl&gt;</th><th scope=col>&lt;dbl&gt;</th><th scope=col>&lt;dbl&gt;</th><th scope=col>&lt;dbl&gt;</th><th scope=col>&lt;dbl&gt;</th><th scope=col>&lt;dbl&gt;</th><th scope=col>&lt;dbl&gt;</th><th scope=col>&lt;dbl&gt;</th><th scope=col>&lt;dbl&gt;</th><th scope=col>&lt;dbl&gt;</th></tr>\n",
       "</thead>\n",
       "<tbody>\n",
       "\t<tr><th scope=row>Patient13_SIGAE8_NG-AGTAGTCAGCTACCTA-1</th><td> -3.776699</td><td>-4.8662829</td><td>0.00000000</td><td>0.1680678</td><td>0.1301370</td><td>0.27967527</td><td>0.07635716</td><td>0.6489002</td><td>0.1389552</td><td>0.3886308</td><td>⋯</td><td>0.2494370</td><td>0.06739966</td><td>0.06857625</td><td>0.0000000</td><td>0.6680260</td><td>0.00000000</td><td>0.1845273</td><td>0.8864495</td><td>0.41876968</td><td>0.1805582</td></tr>\n",
       "\t<tr><th scope=row>GSM3954949-ATCTGCCCAAGAAGAG-1</th><td>  1.741662</td><td>-1.5209520</td><td>0.00000000</td><td>0.2216271</td><td>0.1218420</td><td>0.06641207</td><td>0.08756328</td><td>0.2562334</td><td>0.1250320</td><td>0.4107670</td><td>⋯</td><td>0.1659996</td><td>0.09662052</td><td>0.09262498</td><td>0.1983221</td><td>0.2543439</td><td>0.10341308</td><td>0.1737231</td><td>0.8148601</td><td>0.02754566</td><td>0.2694819</td></tr>\n",
       "\t<tr><th scope=row>GSM3954948-GCTTGAATCGTCTGCT-1</th><td>-11.323230</td><td> 3.3719873</td><td>0.00000000</td><td>0.2561695</td><td>0.1882258</td><td>0.24699765</td><td>0.27030281</td><td>0.6082880</td><td>0.1461834</td><td>0.2818638</td><td>⋯</td><td>0.3177271</td><td>0.06409981</td><td>0.11221130</td><td>0.1864933</td><td>0.6753018</td><td>0.55774022</td><td>0.1933530</td><td>0.8439158</td><td>0.44035272</td><td>0.2630293</td></tr>\n",
       "\t<tr><th scope=row>GSM3954950-AGCGTATTCTGTCAAG-1</th><td> -1.943222</td><td>-0.2695549</td><td>0.00000000</td><td>0.2153220</td><td>0.1572380</td><td>0.07257290</td><td>0.09518573</td><td>0.3024413</td><td>0.1226439</td><td>0.1851470</td><td>⋯</td><td>0.2009819</td><td>0.05772084</td><td>0.13746608</td><td>0.0000000</td><td>0.3341424</td><td>0.03542161</td><td>0.1528150</td><td>0.9038983</td><td>0.07066975</td><td>0.3401550</td></tr>\n",
       "\t<tr><th scope=row>SRR8513799-CTTCTCTAGAGCTATA-1</th><td> -3.202537</td><td> 8.2289638</td><td>0.04035309</td><td>0.3454237</td><td>0.1623454</td><td>0.29345006</td><td>0.15607994</td><td>0.6932451</td><td>0.5994030</td><td>0.2322007</td><td>⋯</td><td>0.3209494</td><td>0.09399684</td><td>0.02662968</td><td>0.1216443</td><td>0.7320189</td><td>0.12082370</td><td>0.5727783</td><td>0.9675461</td><td>0.26747848</td><td>0.3104120</td></tr>\n",
       "\t<tr><th scope=row>GSM3954951-AGAGCTTCAAGTTAAG-1</th><td>  4.928486</td><td>-3.3897050</td><td>0.00000000</td><td>0.2149831</td><td>0.1807603</td><td>0.22949993</td><td>0.09295777</td><td>0.5153514</td><td>0.2044136</td><td>0.5520717</td><td>⋯</td><td>0.3301153</td><td>0.08366141</td><td>0.20352168</td><td>0.1937081</td><td>0.5298770</td><td>0.14162639</td><td>0.2015895</td><td>0.8751480</td><td>0.06311148</td><td>0.3192318</td></tr>\n",
       "</tbody>\n",
       "</table>\n"
      ],
      "text/latex": [
       "A data.frame: 6 × 35\n",
       "\\begin{tabular}{r|lllllllllllllllllllll}\n",
       "  & UMAP\\_1 & UMAP\\_2 & Healthy\\_module1 & Healthy\\_module2 & Healthy\\_module3 & Healthy\\_module4 & Healthy\\_module5 & Healthy\\_module6 & Healthy\\_module7 & Healthy\\_module8 & ⋯ & BE\\_module10 & BE\\_module11 & BE\\_module12 & BE\\_module14 & BE\\_module15 & BE\\_module16 & BE\\_module17 & BE\\_module18 & BE\\_module19 & BE\\_module21\\\\\n",
       "  & <dbl> & <dbl> & <dbl> & <dbl> & <dbl> & <dbl> & <dbl> & <dbl> & <dbl> & <dbl> & ⋯ & <dbl> & <dbl> & <dbl> & <dbl> & <dbl> & <dbl> & <dbl> & <dbl> & <dbl> & <dbl>\\\\\n",
       "\\hline\n",
       "\tPatient13\\_SIGAE8\\_NG-AGTAGTCAGCTACCTA-1 &  -3.776699 & -4.8662829 & 0.00000000 & 0.1680678 & 0.1301370 & 0.27967527 & 0.07635716 & 0.6489002 & 0.1389552 & 0.3886308 & ⋯ & 0.2494370 & 0.06739966 & 0.06857625 & 0.0000000 & 0.6680260 & 0.00000000 & 0.1845273 & 0.8864495 & 0.41876968 & 0.1805582\\\\\n",
       "\tGSM3954949-ATCTGCCCAAGAAGAG-1 &   1.741662 & -1.5209520 & 0.00000000 & 0.2216271 & 0.1218420 & 0.06641207 & 0.08756328 & 0.2562334 & 0.1250320 & 0.4107670 & ⋯ & 0.1659996 & 0.09662052 & 0.09262498 & 0.1983221 & 0.2543439 & 0.10341308 & 0.1737231 & 0.8148601 & 0.02754566 & 0.2694819\\\\\n",
       "\tGSM3954948-GCTTGAATCGTCTGCT-1 & -11.323230 &  3.3719873 & 0.00000000 & 0.2561695 & 0.1882258 & 0.24699765 & 0.27030281 & 0.6082880 & 0.1461834 & 0.2818638 & ⋯ & 0.3177271 & 0.06409981 & 0.11221130 & 0.1864933 & 0.6753018 & 0.55774022 & 0.1933530 & 0.8439158 & 0.44035272 & 0.2630293\\\\\n",
       "\tGSM3954950-AGCGTATTCTGTCAAG-1 &  -1.943222 & -0.2695549 & 0.00000000 & 0.2153220 & 0.1572380 & 0.07257290 & 0.09518573 & 0.3024413 & 0.1226439 & 0.1851470 & ⋯ & 0.2009819 & 0.05772084 & 0.13746608 & 0.0000000 & 0.3341424 & 0.03542161 & 0.1528150 & 0.9038983 & 0.07066975 & 0.3401550\\\\\n",
       "\tSRR8513799-CTTCTCTAGAGCTATA-1 &  -3.202537 &  8.2289638 & 0.04035309 & 0.3454237 & 0.1623454 & 0.29345006 & 0.15607994 & 0.6932451 & 0.5994030 & 0.2322007 & ⋯ & 0.3209494 & 0.09399684 & 0.02662968 & 0.1216443 & 0.7320189 & 0.12082370 & 0.5727783 & 0.9675461 & 0.26747848 & 0.3104120\\\\\n",
       "\tGSM3954951-AGAGCTTCAAGTTAAG-1 &   4.928486 & -3.3897050 & 0.00000000 & 0.2149831 & 0.1807603 & 0.22949993 & 0.09295777 & 0.5153514 & 0.2044136 & 0.5520717 & ⋯ & 0.3301153 & 0.08366141 & 0.20352168 & 0.1937081 & 0.5298770 & 0.14162639 & 0.2015895 & 0.8751480 & 0.06311148 & 0.3192318\\\\\n",
       "\\end{tabular}\n"
      ],
      "text/markdown": [
       "\n",
       "A data.frame: 6 × 35\n",
       "\n",
       "| <!--/--> | UMAP_1 &lt;dbl&gt; | UMAP_2 &lt;dbl&gt; | Healthy_module1 &lt;dbl&gt; | Healthy_module2 &lt;dbl&gt; | Healthy_module3 &lt;dbl&gt; | Healthy_module4 &lt;dbl&gt; | Healthy_module5 &lt;dbl&gt; | Healthy_module6 &lt;dbl&gt; | Healthy_module7 &lt;dbl&gt; | Healthy_module8 &lt;dbl&gt; | ⋯ ⋯ | BE_module10 &lt;dbl&gt; | BE_module11 &lt;dbl&gt; | BE_module12 &lt;dbl&gt; | BE_module14 &lt;dbl&gt; | BE_module15 &lt;dbl&gt; | BE_module16 &lt;dbl&gt; | BE_module17 &lt;dbl&gt; | BE_module18 &lt;dbl&gt; | BE_module19 &lt;dbl&gt; | BE_module21 &lt;dbl&gt; |\n",
       "|---|---|---|---|---|---|---|---|---|---|---|---|---|---|---|---|---|---|---|---|---|---|\n",
       "| Patient13_SIGAE8_NG-AGTAGTCAGCTACCTA-1 |  -3.776699 | -4.8662829 | 0.00000000 | 0.1680678 | 0.1301370 | 0.27967527 | 0.07635716 | 0.6489002 | 0.1389552 | 0.3886308 | ⋯ | 0.2494370 | 0.06739966 | 0.06857625 | 0.0000000 | 0.6680260 | 0.00000000 | 0.1845273 | 0.8864495 | 0.41876968 | 0.1805582 |\n",
       "| GSM3954949-ATCTGCCCAAGAAGAG-1 |   1.741662 | -1.5209520 | 0.00000000 | 0.2216271 | 0.1218420 | 0.06641207 | 0.08756328 | 0.2562334 | 0.1250320 | 0.4107670 | ⋯ | 0.1659996 | 0.09662052 | 0.09262498 | 0.1983221 | 0.2543439 | 0.10341308 | 0.1737231 | 0.8148601 | 0.02754566 | 0.2694819 |\n",
       "| GSM3954948-GCTTGAATCGTCTGCT-1 | -11.323230 |  3.3719873 | 0.00000000 | 0.2561695 | 0.1882258 | 0.24699765 | 0.27030281 | 0.6082880 | 0.1461834 | 0.2818638 | ⋯ | 0.3177271 | 0.06409981 | 0.11221130 | 0.1864933 | 0.6753018 | 0.55774022 | 0.1933530 | 0.8439158 | 0.44035272 | 0.2630293 |\n",
       "| GSM3954950-AGCGTATTCTGTCAAG-1 |  -1.943222 | -0.2695549 | 0.00000000 | 0.2153220 | 0.1572380 | 0.07257290 | 0.09518573 | 0.3024413 | 0.1226439 | 0.1851470 | ⋯ | 0.2009819 | 0.05772084 | 0.13746608 | 0.0000000 | 0.3341424 | 0.03542161 | 0.1528150 | 0.9038983 | 0.07066975 | 0.3401550 |\n",
       "| SRR8513799-CTTCTCTAGAGCTATA-1 |  -3.202537 |  8.2289638 | 0.04035309 | 0.3454237 | 0.1623454 | 0.29345006 | 0.15607994 | 0.6932451 | 0.5994030 | 0.2322007 | ⋯ | 0.3209494 | 0.09399684 | 0.02662968 | 0.1216443 | 0.7320189 | 0.12082370 | 0.5727783 | 0.9675461 | 0.26747848 | 0.3104120 |\n",
       "| GSM3954951-AGAGCTTCAAGTTAAG-1 |   4.928486 | -3.3897050 | 0.00000000 | 0.2149831 | 0.1807603 | 0.22949993 | 0.09295777 | 0.5153514 | 0.2044136 | 0.5520717 | ⋯ | 0.3301153 | 0.08366141 | 0.20352168 | 0.1937081 | 0.5298770 | 0.14162639 | 0.2015895 | 0.8751480 | 0.06311148 | 0.3192318 |\n",
       "\n"
      ],
      "text/plain": [
       "                                       UMAP_1     UMAP_2     Healthy_module1\n",
       "Patient13_SIGAE8_NG-AGTAGTCAGCTACCTA-1  -3.776699 -4.8662829 0.00000000     \n",
       "GSM3954949-ATCTGCCCAAGAAGAG-1            1.741662 -1.5209520 0.00000000     \n",
       "GSM3954948-GCTTGAATCGTCTGCT-1          -11.323230  3.3719873 0.00000000     \n",
       "GSM3954950-AGCGTATTCTGTCAAG-1           -1.943222 -0.2695549 0.00000000     \n",
       "SRR8513799-CTTCTCTAGAGCTATA-1           -3.202537  8.2289638 0.04035309     \n",
       "GSM3954951-AGAGCTTCAAGTTAAG-1            4.928486 -3.3897050 0.00000000     \n",
       "                                       Healthy_module2 Healthy_module3\n",
       "Patient13_SIGAE8_NG-AGTAGTCAGCTACCTA-1 0.1680678       0.1301370      \n",
       "GSM3954949-ATCTGCCCAAGAAGAG-1          0.2216271       0.1218420      \n",
       "GSM3954948-GCTTGAATCGTCTGCT-1          0.2561695       0.1882258      \n",
       "GSM3954950-AGCGTATTCTGTCAAG-1          0.2153220       0.1572380      \n",
       "SRR8513799-CTTCTCTAGAGCTATA-1          0.3454237       0.1623454      \n",
       "GSM3954951-AGAGCTTCAAGTTAAG-1          0.2149831       0.1807603      \n",
       "                                       Healthy_module4 Healthy_module5\n",
       "Patient13_SIGAE8_NG-AGTAGTCAGCTACCTA-1 0.27967527      0.07635716     \n",
       "GSM3954949-ATCTGCCCAAGAAGAG-1          0.06641207      0.08756328     \n",
       "GSM3954948-GCTTGAATCGTCTGCT-1          0.24699765      0.27030281     \n",
       "GSM3954950-AGCGTATTCTGTCAAG-1          0.07257290      0.09518573     \n",
       "SRR8513799-CTTCTCTAGAGCTATA-1          0.29345006      0.15607994     \n",
       "GSM3954951-AGAGCTTCAAGTTAAG-1          0.22949993      0.09295777     \n",
       "                                       Healthy_module6 Healthy_module7\n",
       "Patient13_SIGAE8_NG-AGTAGTCAGCTACCTA-1 0.6489002       0.1389552      \n",
       "GSM3954949-ATCTGCCCAAGAAGAG-1          0.2562334       0.1250320      \n",
       "GSM3954948-GCTTGAATCGTCTGCT-1          0.6082880       0.1461834      \n",
       "GSM3954950-AGCGTATTCTGTCAAG-1          0.3024413       0.1226439      \n",
       "SRR8513799-CTTCTCTAGAGCTATA-1          0.6932451       0.5994030      \n",
       "GSM3954951-AGAGCTTCAAGTTAAG-1          0.5153514       0.2044136      \n",
       "                                       Healthy_module8 ⋯ BE_module10\n",
       "Patient13_SIGAE8_NG-AGTAGTCAGCTACCTA-1 0.3886308       ⋯ 0.2494370  \n",
       "GSM3954949-ATCTGCCCAAGAAGAG-1          0.4107670       ⋯ 0.1659996  \n",
       "GSM3954948-GCTTGAATCGTCTGCT-1          0.2818638       ⋯ 0.3177271  \n",
       "GSM3954950-AGCGTATTCTGTCAAG-1          0.1851470       ⋯ 0.2009819  \n",
       "SRR8513799-CTTCTCTAGAGCTATA-1          0.2322007       ⋯ 0.3209494  \n",
       "GSM3954951-AGAGCTTCAAGTTAAG-1          0.5520717       ⋯ 0.3301153  \n",
       "                                       BE_module11 BE_module12 BE_module14\n",
       "Patient13_SIGAE8_NG-AGTAGTCAGCTACCTA-1 0.06739966  0.06857625  0.0000000  \n",
       "GSM3954949-ATCTGCCCAAGAAGAG-1          0.09662052  0.09262498  0.1983221  \n",
       "GSM3954948-GCTTGAATCGTCTGCT-1          0.06409981  0.11221130  0.1864933  \n",
       "GSM3954950-AGCGTATTCTGTCAAG-1          0.05772084  0.13746608  0.0000000  \n",
       "SRR8513799-CTTCTCTAGAGCTATA-1          0.09399684  0.02662968  0.1216443  \n",
       "GSM3954951-AGAGCTTCAAGTTAAG-1          0.08366141  0.20352168  0.1937081  \n",
       "                                       BE_module15 BE_module16 BE_module17\n",
       "Patient13_SIGAE8_NG-AGTAGTCAGCTACCTA-1 0.6680260   0.00000000  0.1845273  \n",
       "GSM3954949-ATCTGCCCAAGAAGAG-1          0.2543439   0.10341308  0.1737231  \n",
       "GSM3954948-GCTTGAATCGTCTGCT-1          0.6753018   0.55774022  0.1933530  \n",
       "GSM3954950-AGCGTATTCTGTCAAG-1          0.3341424   0.03542161  0.1528150  \n",
       "SRR8513799-CTTCTCTAGAGCTATA-1          0.7320189   0.12082370  0.5727783  \n",
       "GSM3954951-AGAGCTTCAAGTTAAG-1          0.5298770   0.14162639  0.2015895  \n",
       "                                       BE_module18 BE_module19 BE_module21\n",
       "Patient13_SIGAE8_NG-AGTAGTCAGCTACCTA-1 0.8864495   0.41876968  0.1805582  \n",
       "GSM3954949-ATCTGCCCAAGAAGAG-1          0.8148601   0.02754566  0.2694819  \n",
       "GSM3954948-GCTTGAATCGTCTGCT-1          0.8439158   0.44035272  0.2630293  \n",
       "GSM3954950-AGCGTATTCTGTCAAG-1          0.9038983   0.07066975  0.3401550  \n",
       "SRR8513799-CTTCTCTAGAGCTATA-1          0.9675461   0.26747848  0.3104120  \n",
       "GSM3954951-AGAGCTTCAAGTTAAG-1          0.8751480   0.06311148  0.3192318  "
      ]
     },
     "metadata": {},
     "output_type": "display_data"
    }
   ],
   "source": [
    "head(plot_df)"
   ]
  },
  {
   "cell_type": "code",
   "execution_count": 11,
   "id": "5ed75c43",
   "metadata": {},
   "outputs": [
    {
     "data": {
      "text/html": [
       "<style>\n",
       ".list-inline {list-style: none; margin:0; padding: 0}\n",
       ".list-inline>li {display: inline-block}\n",
       ".list-inline>li:not(:last-child)::after {content: \"\\00b7\"; padding: 0 .5ex}\n",
       "</style>\n",
       "<ol class=list-inline><li>15904</li><li>35</li></ol>\n"
      ],
      "text/latex": [
       "\\begin{enumerate*}\n",
       "\\item 15904\n",
       "\\item 35\n",
       "\\end{enumerate*}\n"
      ],
      "text/markdown": [
       "1. 15904\n",
       "2. 35\n",
       "\n",
       "\n"
      ],
      "text/plain": [
       "[1] 15904    35"
      ]
     },
     "metadata": {},
     "output_type": "display_data"
    },
    {
     "data": {
      "text/html": [
       "<table class=\"dataframe\">\n",
       "<caption>A data.frame: 6 × 35</caption>\n",
       "<thead>\n",
       "\t<tr><th></th><th scope=col>UMAP_1</th><th scope=col>UMAP_2</th><th scope=col>Healthy_module1</th><th scope=col>Healthy_module2</th><th scope=col>Healthy_module3</th><th scope=col>Healthy_module4</th><th scope=col>Healthy_module5</th><th scope=col>Healthy_module6</th><th scope=col>Healthy_module7</th><th scope=col>Healthy_module8</th><th scope=col>⋯</th><th scope=col>BE_module10</th><th scope=col>BE_module11</th><th scope=col>BE_module12</th><th scope=col>BE_module14</th><th scope=col>BE_module15</th><th scope=col>BE_module16</th><th scope=col>BE_module17</th><th scope=col>BE_module18</th><th scope=col>BE_module19</th><th scope=col>BE_module21</th></tr>\n",
       "\t<tr><th></th><th scope=col>&lt;dbl&gt;</th><th scope=col>&lt;dbl&gt;</th><th scope=col>&lt;dbl&gt;</th><th scope=col>&lt;dbl&gt;</th><th scope=col>&lt;dbl&gt;</th><th scope=col>&lt;dbl&gt;</th><th scope=col>&lt;dbl&gt;</th><th scope=col>&lt;dbl&gt;</th><th scope=col>&lt;dbl&gt;</th><th scope=col>&lt;dbl&gt;</th><th scope=col>⋯</th><th scope=col>&lt;dbl&gt;</th><th scope=col>&lt;dbl&gt;</th><th scope=col>&lt;dbl&gt;</th><th scope=col>&lt;dbl&gt;</th><th scope=col>&lt;dbl&gt;</th><th scope=col>&lt;dbl&gt;</th><th scope=col>&lt;dbl&gt;</th><th scope=col>&lt;dbl&gt;</th><th scope=col>&lt;dbl&gt;</th><th scope=col>&lt;dbl&gt;</th></tr>\n",
       "</thead>\n",
       "<tbody>\n",
       "\t<tr><th scope=row>Patient13_SIGAE8_NG-AGTAGTCAGCTACCTA-1</th><td> -3.776699</td><td>-4.8662829</td><td>0.00000000</td><td>0.1680678</td><td>0.1301370</td><td>0.27967527</td><td>0.07635716</td><td>0.6489002</td><td>0.1389552</td><td>0.3886308</td><td>⋯</td><td>0.2494370</td><td>0.06739966</td><td>0.06857625</td><td>0.0000000</td><td>0.6680260</td><td>0.00000000</td><td>0.1845273</td><td>0.8864495</td><td>0.41876968</td><td>0.1805582</td></tr>\n",
       "\t<tr><th scope=row>GSM3954949-ATCTGCCCAAGAAGAG-1</th><td>  1.741662</td><td>-1.5209520</td><td>0.00000000</td><td>0.2216271</td><td>0.1218420</td><td>0.06641207</td><td>0.08756328</td><td>0.2562334</td><td>0.1250320</td><td>0.4107670</td><td>⋯</td><td>0.1659996</td><td>0.09662052</td><td>0.09262498</td><td>0.1983221</td><td>0.2543439</td><td>0.10341308</td><td>0.1737231</td><td>0.8148601</td><td>0.02754566</td><td>0.2694819</td></tr>\n",
       "\t<tr><th scope=row>GSM3954948-GCTTGAATCGTCTGCT-1</th><td>-11.323230</td><td> 3.3719873</td><td>0.00000000</td><td>0.2561695</td><td>0.1882258</td><td>0.24699765</td><td>0.27030281</td><td>0.6082880</td><td>0.1461834</td><td>0.2818638</td><td>⋯</td><td>0.3177271</td><td>0.06409981</td><td>0.11221130</td><td>0.1864933</td><td>0.6753018</td><td>0.55774022</td><td>0.1933530</td><td>0.8439158</td><td>0.44035272</td><td>0.2630293</td></tr>\n",
       "\t<tr><th scope=row>GSM3954950-AGCGTATTCTGTCAAG-1</th><td> -1.943222</td><td>-0.2695549</td><td>0.00000000</td><td>0.2153220</td><td>0.1572380</td><td>0.07257290</td><td>0.09518573</td><td>0.3024413</td><td>0.1226439</td><td>0.1851470</td><td>⋯</td><td>0.2009819</td><td>0.05772084</td><td>0.13746608</td><td>0.0000000</td><td>0.3341424</td><td>0.03542161</td><td>0.1528150</td><td>0.9038983</td><td>0.07066975</td><td>0.3401550</td></tr>\n",
       "\t<tr><th scope=row>SRR8513799-CTTCTCTAGAGCTATA-1</th><td> -3.202537</td><td> 8.2289638</td><td>0.04035309</td><td>0.3454237</td><td>0.1623454</td><td>0.29345006</td><td>0.15607994</td><td>0.6932451</td><td>0.5994030</td><td>0.2322007</td><td>⋯</td><td>0.3209494</td><td>0.09399684</td><td>0.02662968</td><td>0.1216443</td><td>0.7320189</td><td>0.12082370</td><td>0.5727783</td><td>0.9675461</td><td>0.26747848</td><td>0.3104120</td></tr>\n",
       "\t<tr><th scope=row>GSM3954951-AGAGCTTCAAGTTAAG-1</th><td>  4.928486</td><td>-3.3897050</td><td>0.00000000</td><td>0.2149831</td><td>0.1807603</td><td>0.22949993</td><td>0.09295777</td><td>0.5153514</td><td>0.2044136</td><td>0.5520717</td><td>⋯</td><td>0.3301153</td><td>0.08366141</td><td>0.20352168</td><td>0.1937081</td><td>0.5298770</td><td>0.14162639</td><td>0.2015895</td><td>0.8751480</td><td>0.06311148</td><td>0.3192318</td></tr>\n",
       "</tbody>\n",
       "</table>\n"
      ],
      "text/latex": [
       "A data.frame: 6 × 35\n",
       "\\begin{tabular}{r|lllllllllllllllllllll}\n",
       "  & UMAP\\_1 & UMAP\\_2 & Healthy\\_module1 & Healthy\\_module2 & Healthy\\_module3 & Healthy\\_module4 & Healthy\\_module5 & Healthy\\_module6 & Healthy\\_module7 & Healthy\\_module8 & ⋯ & BE\\_module10 & BE\\_module11 & BE\\_module12 & BE\\_module14 & BE\\_module15 & BE\\_module16 & BE\\_module17 & BE\\_module18 & BE\\_module19 & BE\\_module21\\\\\n",
       "  & <dbl> & <dbl> & <dbl> & <dbl> & <dbl> & <dbl> & <dbl> & <dbl> & <dbl> & <dbl> & ⋯ & <dbl> & <dbl> & <dbl> & <dbl> & <dbl> & <dbl> & <dbl> & <dbl> & <dbl> & <dbl>\\\\\n",
       "\\hline\n",
       "\tPatient13\\_SIGAE8\\_NG-AGTAGTCAGCTACCTA-1 &  -3.776699 & -4.8662829 & 0.00000000 & 0.1680678 & 0.1301370 & 0.27967527 & 0.07635716 & 0.6489002 & 0.1389552 & 0.3886308 & ⋯ & 0.2494370 & 0.06739966 & 0.06857625 & 0.0000000 & 0.6680260 & 0.00000000 & 0.1845273 & 0.8864495 & 0.41876968 & 0.1805582\\\\\n",
       "\tGSM3954949-ATCTGCCCAAGAAGAG-1 &   1.741662 & -1.5209520 & 0.00000000 & 0.2216271 & 0.1218420 & 0.06641207 & 0.08756328 & 0.2562334 & 0.1250320 & 0.4107670 & ⋯ & 0.1659996 & 0.09662052 & 0.09262498 & 0.1983221 & 0.2543439 & 0.10341308 & 0.1737231 & 0.8148601 & 0.02754566 & 0.2694819\\\\\n",
       "\tGSM3954948-GCTTGAATCGTCTGCT-1 & -11.323230 &  3.3719873 & 0.00000000 & 0.2561695 & 0.1882258 & 0.24699765 & 0.27030281 & 0.6082880 & 0.1461834 & 0.2818638 & ⋯ & 0.3177271 & 0.06409981 & 0.11221130 & 0.1864933 & 0.6753018 & 0.55774022 & 0.1933530 & 0.8439158 & 0.44035272 & 0.2630293\\\\\n",
       "\tGSM3954950-AGCGTATTCTGTCAAG-1 &  -1.943222 & -0.2695549 & 0.00000000 & 0.2153220 & 0.1572380 & 0.07257290 & 0.09518573 & 0.3024413 & 0.1226439 & 0.1851470 & ⋯ & 0.2009819 & 0.05772084 & 0.13746608 & 0.0000000 & 0.3341424 & 0.03542161 & 0.1528150 & 0.9038983 & 0.07066975 & 0.3401550\\\\\n",
       "\tSRR8513799-CTTCTCTAGAGCTATA-1 &  -3.202537 &  8.2289638 & 0.04035309 & 0.3454237 & 0.1623454 & 0.29345006 & 0.15607994 & 0.6932451 & 0.5994030 & 0.2322007 & ⋯ & 0.3209494 & 0.09399684 & 0.02662968 & 0.1216443 & 0.7320189 & 0.12082370 & 0.5727783 & 0.9675461 & 0.26747848 & 0.3104120\\\\\n",
       "\tGSM3954951-AGAGCTTCAAGTTAAG-1 &   4.928486 & -3.3897050 & 0.00000000 & 0.2149831 & 0.1807603 & 0.22949993 & 0.09295777 & 0.5153514 & 0.2044136 & 0.5520717 & ⋯ & 0.3301153 & 0.08366141 & 0.20352168 & 0.1937081 & 0.5298770 & 0.14162639 & 0.2015895 & 0.8751480 & 0.06311148 & 0.3192318\\\\\n",
       "\\end{tabular}\n"
      ],
      "text/markdown": [
       "\n",
       "A data.frame: 6 × 35\n",
       "\n",
       "| <!--/--> | UMAP_1 &lt;dbl&gt; | UMAP_2 &lt;dbl&gt; | Healthy_module1 &lt;dbl&gt; | Healthy_module2 &lt;dbl&gt; | Healthy_module3 &lt;dbl&gt; | Healthy_module4 &lt;dbl&gt; | Healthy_module5 &lt;dbl&gt; | Healthy_module6 &lt;dbl&gt; | Healthy_module7 &lt;dbl&gt; | Healthy_module8 &lt;dbl&gt; | ⋯ ⋯ | BE_module10 &lt;dbl&gt; | BE_module11 &lt;dbl&gt; | BE_module12 &lt;dbl&gt; | BE_module14 &lt;dbl&gt; | BE_module15 &lt;dbl&gt; | BE_module16 &lt;dbl&gt; | BE_module17 &lt;dbl&gt; | BE_module18 &lt;dbl&gt; | BE_module19 &lt;dbl&gt; | BE_module21 &lt;dbl&gt; |\n",
       "|---|---|---|---|---|---|---|---|---|---|---|---|---|---|---|---|---|---|---|---|---|---|\n",
       "| Patient13_SIGAE8_NG-AGTAGTCAGCTACCTA-1 |  -3.776699 | -4.8662829 | 0.00000000 | 0.1680678 | 0.1301370 | 0.27967527 | 0.07635716 | 0.6489002 | 0.1389552 | 0.3886308 | ⋯ | 0.2494370 | 0.06739966 | 0.06857625 | 0.0000000 | 0.6680260 | 0.00000000 | 0.1845273 | 0.8864495 | 0.41876968 | 0.1805582 |\n",
       "| GSM3954949-ATCTGCCCAAGAAGAG-1 |   1.741662 | -1.5209520 | 0.00000000 | 0.2216271 | 0.1218420 | 0.06641207 | 0.08756328 | 0.2562334 | 0.1250320 | 0.4107670 | ⋯ | 0.1659996 | 0.09662052 | 0.09262498 | 0.1983221 | 0.2543439 | 0.10341308 | 0.1737231 | 0.8148601 | 0.02754566 | 0.2694819 |\n",
       "| GSM3954948-GCTTGAATCGTCTGCT-1 | -11.323230 |  3.3719873 | 0.00000000 | 0.2561695 | 0.1882258 | 0.24699765 | 0.27030281 | 0.6082880 | 0.1461834 | 0.2818638 | ⋯ | 0.3177271 | 0.06409981 | 0.11221130 | 0.1864933 | 0.6753018 | 0.55774022 | 0.1933530 | 0.8439158 | 0.44035272 | 0.2630293 |\n",
       "| GSM3954950-AGCGTATTCTGTCAAG-1 |  -1.943222 | -0.2695549 | 0.00000000 | 0.2153220 | 0.1572380 | 0.07257290 | 0.09518573 | 0.3024413 | 0.1226439 | 0.1851470 | ⋯ | 0.2009819 | 0.05772084 | 0.13746608 | 0.0000000 | 0.3341424 | 0.03542161 | 0.1528150 | 0.9038983 | 0.07066975 | 0.3401550 |\n",
       "| SRR8513799-CTTCTCTAGAGCTATA-1 |  -3.202537 |  8.2289638 | 0.04035309 | 0.3454237 | 0.1623454 | 0.29345006 | 0.15607994 | 0.6932451 | 0.5994030 | 0.2322007 | ⋯ | 0.3209494 | 0.09399684 | 0.02662968 | 0.1216443 | 0.7320189 | 0.12082370 | 0.5727783 | 0.9675461 | 0.26747848 | 0.3104120 |\n",
       "| GSM3954951-AGAGCTTCAAGTTAAG-1 |   4.928486 | -3.3897050 | 0.00000000 | 0.2149831 | 0.1807603 | 0.22949993 | 0.09295777 | 0.5153514 | 0.2044136 | 0.5520717 | ⋯ | 0.3301153 | 0.08366141 | 0.20352168 | 0.1937081 | 0.5298770 | 0.14162639 | 0.2015895 | 0.8751480 | 0.06311148 | 0.3192318 |\n",
       "\n"
      ],
      "text/plain": [
       "                                       UMAP_1     UMAP_2     Healthy_module1\n",
       "Patient13_SIGAE8_NG-AGTAGTCAGCTACCTA-1  -3.776699 -4.8662829 0.00000000     \n",
       "GSM3954949-ATCTGCCCAAGAAGAG-1            1.741662 -1.5209520 0.00000000     \n",
       "GSM3954948-GCTTGAATCGTCTGCT-1          -11.323230  3.3719873 0.00000000     \n",
       "GSM3954950-AGCGTATTCTGTCAAG-1           -1.943222 -0.2695549 0.00000000     \n",
       "SRR8513799-CTTCTCTAGAGCTATA-1           -3.202537  8.2289638 0.04035309     \n",
       "GSM3954951-AGAGCTTCAAGTTAAG-1            4.928486 -3.3897050 0.00000000     \n",
       "                                       Healthy_module2 Healthy_module3\n",
       "Patient13_SIGAE8_NG-AGTAGTCAGCTACCTA-1 0.1680678       0.1301370      \n",
       "GSM3954949-ATCTGCCCAAGAAGAG-1          0.2216271       0.1218420      \n",
       "GSM3954948-GCTTGAATCGTCTGCT-1          0.2561695       0.1882258      \n",
       "GSM3954950-AGCGTATTCTGTCAAG-1          0.2153220       0.1572380      \n",
       "SRR8513799-CTTCTCTAGAGCTATA-1          0.3454237       0.1623454      \n",
       "GSM3954951-AGAGCTTCAAGTTAAG-1          0.2149831       0.1807603      \n",
       "                                       Healthy_module4 Healthy_module5\n",
       "Patient13_SIGAE8_NG-AGTAGTCAGCTACCTA-1 0.27967527      0.07635716     \n",
       "GSM3954949-ATCTGCCCAAGAAGAG-1          0.06641207      0.08756328     \n",
       "GSM3954948-GCTTGAATCGTCTGCT-1          0.24699765      0.27030281     \n",
       "GSM3954950-AGCGTATTCTGTCAAG-1          0.07257290      0.09518573     \n",
       "SRR8513799-CTTCTCTAGAGCTATA-1          0.29345006      0.15607994     \n",
       "GSM3954951-AGAGCTTCAAGTTAAG-1          0.22949993      0.09295777     \n",
       "                                       Healthy_module6 Healthy_module7\n",
       "Patient13_SIGAE8_NG-AGTAGTCAGCTACCTA-1 0.6489002       0.1389552      \n",
       "GSM3954949-ATCTGCCCAAGAAGAG-1          0.2562334       0.1250320      \n",
       "GSM3954948-GCTTGAATCGTCTGCT-1          0.6082880       0.1461834      \n",
       "GSM3954950-AGCGTATTCTGTCAAG-1          0.3024413       0.1226439      \n",
       "SRR8513799-CTTCTCTAGAGCTATA-1          0.6932451       0.5994030      \n",
       "GSM3954951-AGAGCTTCAAGTTAAG-1          0.5153514       0.2044136      \n",
       "                                       Healthy_module8 ⋯ BE_module10\n",
       "Patient13_SIGAE8_NG-AGTAGTCAGCTACCTA-1 0.3886308       ⋯ 0.2494370  \n",
       "GSM3954949-ATCTGCCCAAGAAGAG-1          0.4107670       ⋯ 0.1659996  \n",
       "GSM3954948-GCTTGAATCGTCTGCT-1          0.2818638       ⋯ 0.3177271  \n",
       "GSM3954950-AGCGTATTCTGTCAAG-1          0.1851470       ⋯ 0.2009819  \n",
       "SRR8513799-CTTCTCTAGAGCTATA-1          0.2322007       ⋯ 0.3209494  \n",
       "GSM3954951-AGAGCTTCAAGTTAAG-1          0.5520717       ⋯ 0.3301153  \n",
       "                                       BE_module11 BE_module12 BE_module14\n",
       "Patient13_SIGAE8_NG-AGTAGTCAGCTACCTA-1 0.06739966  0.06857625  0.0000000  \n",
       "GSM3954949-ATCTGCCCAAGAAGAG-1          0.09662052  0.09262498  0.1983221  \n",
       "GSM3954948-GCTTGAATCGTCTGCT-1          0.06409981  0.11221130  0.1864933  \n",
       "GSM3954950-AGCGTATTCTGTCAAG-1          0.05772084  0.13746608  0.0000000  \n",
       "SRR8513799-CTTCTCTAGAGCTATA-1          0.09399684  0.02662968  0.1216443  \n",
       "GSM3954951-AGAGCTTCAAGTTAAG-1          0.08366141  0.20352168  0.1937081  \n",
       "                                       BE_module15 BE_module16 BE_module17\n",
       "Patient13_SIGAE8_NG-AGTAGTCAGCTACCTA-1 0.6680260   0.00000000  0.1845273  \n",
       "GSM3954949-ATCTGCCCAAGAAGAG-1          0.2543439   0.10341308  0.1737231  \n",
       "GSM3954948-GCTTGAATCGTCTGCT-1          0.6753018   0.55774022  0.1933530  \n",
       "GSM3954950-AGCGTATTCTGTCAAG-1          0.3341424   0.03542161  0.1528150  \n",
       "SRR8513799-CTTCTCTAGAGCTATA-1          0.7320189   0.12082370  0.5727783  \n",
       "GSM3954951-AGAGCTTCAAGTTAAG-1          0.5298770   0.14162639  0.2015895  \n",
       "                                       BE_module18 BE_module19 BE_module21\n",
       "Patient13_SIGAE8_NG-AGTAGTCAGCTACCTA-1 0.8864495   0.41876968  0.1805582  \n",
       "GSM3954949-ATCTGCCCAAGAAGAG-1          0.8148601   0.02754566  0.2694819  \n",
       "GSM3954948-GCTTGAATCGTCTGCT-1          0.8439158   0.44035272  0.2630293  \n",
       "GSM3954950-AGCGTATTCTGTCAAG-1          0.9038983   0.07066975  0.3401550  \n",
       "SRR8513799-CTTCTCTAGAGCTATA-1          0.9675461   0.26747848  0.3104120  \n",
       "GSM3954951-AGAGCTTCAAGTTAAG-1          0.8751480   0.06311148  0.3192318  "
      ]
     },
     "metadata": {},
     "output_type": "display_data"
    },
    {
     "data": {
      "text/html": [
       "<style>\n",
       ".list-inline {list-style: none; margin:0; padding: 0}\n",
       ".list-inline>li {display: inline-block}\n",
       ".list-inline>li:not(:last-child)::after {content: \"\\00b7\"; padding: 0 .5ex}\n",
       "</style>\n",
       "<ol class=list-inline><li>'UMAP_1'</li><li>'UMAP_2'</li><li>'Healthy_module1'</li><li>'Healthy_module2'</li><li>'Healthy_module3'</li><li>'Healthy_module4'</li><li>'Healthy_module5'</li><li>'Healthy_module6'</li><li>'Healthy_module7'</li><li>'Healthy_module8'</li><li>'Healthy_module9'</li><li>'Healthy_module10'</li><li>'Healthy_module11'</li><li>'Healthy_module12'</li><li>'Healthy_module13'</li><li>'Healthy_module14'</li><li>'Healthy_module15'</li><li>'Healthy_module16'</li><li>'BE_module1'</li><li>'BE_module3'</li><li>'BE_module4'</li><li>'BE_module5'</li><li>'BE_module6'</li><li>'BE_module7'</li><li>'BE_module8'</li><li>'BE_module10'</li><li>'BE_module11'</li><li>'BE_module12'</li><li>'BE_module14'</li><li>'BE_module15'</li><li>'BE_module16'</li><li>'BE_module17'</li><li>'BE_module18'</li><li>'BE_module19'</li><li>'BE_module21'</li></ol>\n"
      ],
      "text/latex": [
       "\\begin{enumerate*}\n",
       "\\item 'UMAP\\_1'\n",
       "\\item 'UMAP\\_2'\n",
       "\\item 'Healthy\\_module1'\n",
       "\\item 'Healthy\\_module2'\n",
       "\\item 'Healthy\\_module3'\n",
       "\\item 'Healthy\\_module4'\n",
       "\\item 'Healthy\\_module5'\n",
       "\\item 'Healthy\\_module6'\n",
       "\\item 'Healthy\\_module7'\n",
       "\\item 'Healthy\\_module8'\n",
       "\\item 'Healthy\\_module9'\n",
       "\\item 'Healthy\\_module10'\n",
       "\\item 'Healthy\\_module11'\n",
       "\\item 'Healthy\\_module12'\n",
       "\\item 'Healthy\\_module13'\n",
       "\\item 'Healthy\\_module14'\n",
       "\\item 'Healthy\\_module15'\n",
       "\\item 'Healthy\\_module16'\n",
       "\\item 'BE\\_module1'\n",
       "\\item 'BE\\_module3'\n",
       "\\item 'BE\\_module4'\n",
       "\\item 'BE\\_module5'\n",
       "\\item 'BE\\_module6'\n",
       "\\item 'BE\\_module7'\n",
       "\\item 'BE\\_module8'\n",
       "\\item 'BE\\_module10'\n",
       "\\item 'BE\\_module11'\n",
       "\\item 'BE\\_module12'\n",
       "\\item 'BE\\_module14'\n",
       "\\item 'BE\\_module15'\n",
       "\\item 'BE\\_module16'\n",
       "\\item 'BE\\_module17'\n",
       "\\item 'BE\\_module18'\n",
       "\\item 'BE\\_module19'\n",
       "\\item 'BE\\_module21'\n",
       "\\end{enumerate*}\n"
      ],
      "text/markdown": [
       "1. 'UMAP_1'\n",
       "2. 'UMAP_2'\n",
       "3. 'Healthy_module1'\n",
       "4. 'Healthy_module2'\n",
       "5. 'Healthy_module3'\n",
       "6. 'Healthy_module4'\n",
       "7. 'Healthy_module5'\n",
       "8. 'Healthy_module6'\n",
       "9. 'Healthy_module7'\n",
       "10. 'Healthy_module8'\n",
       "11. 'Healthy_module9'\n",
       "12. 'Healthy_module10'\n",
       "13. 'Healthy_module11'\n",
       "14. 'Healthy_module12'\n",
       "15. 'Healthy_module13'\n",
       "16. 'Healthy_module14'\n",
       "17. 'Healthy_module15'\n",
       "18. 'Healthy_module16'\n",
       "19. 'BE_module1'\n",
       "20. 'BE_module3'\n",
       "21. 'BE_module4'\n",
       "22. 'BE_module5'\n",
       "23. 'BE_module6'\n",
       "24. 'BE_module7'\n",
       "25. 'BE_module8'\n",
       "26. 'BE_module10'\n",
       "27. 'BE_module11'\n",
       "28. 'BE_module12'\n",
       "29. 'BE_module14'\n",
       "30. 'BE_module15'\n",
       "31. 'BE_module16'\n",
       "32. 'BE_module17'\n",
       "33. 'BE_module18'\n",
       "34. 'BE_module19'\n",
       "35. 'BE_module21'\n",
       "\n",
       "\n"
      ],
      "text/plain": [
       " [1] \"UMAP_1\"           \"UMAP_2\"           \"Healthy_module1\"  \"Healthy_module2\" \n",
       " [5] \"Healthy_module3\"  \"Healthy_module4\"  \"Healthy_module5\"  \"Healthy_module6\" \n",
       " [9] \"Healthy_module7\"  \"Healthy_module8\"  \"Healthy_module9\"  \"Healthy_module10\"\n",
       "[13] \"Healthy_module11\" \"Healthy_module12\" \"Healthy_module13\" \"Healthy_module14\"\n",
       "[17] \"Healthy_module15\" \"Healthy_module16\" \"BE_module1\"       \"BE_module3\"      \n",
       "[21] \"BE_module4\"       \"BE_module5\"       \"BE_module6\"       \"BE_module7\"      \n",
       "[25] \"BE_module8\"       \"BE_module10\"      \"BE_module11\"      \"BE_module12\"     \n",
       "[29] \"BE_module14\"      \"BE_module15\"      \"BE_module16\"      \"BE_module17\"     \n",
       "[33] \"BE_module18\"      \"BE_module19\"      \"BE_module21\"     "
      ]
     },
     "metadata": {},
     "output_type": "display_data"
    }
   ],
   "source": [
    "dim(plot_df)\n",
    "\n",
    "head(plot_df)\n",
    "\n",
    "colnames(plot_df)"
   ]
  },
  {
   "cell_type": "code",
   "execution_count": 26,
   "id": "0c538699",
   "metadata": {},
   "outputs": [
    {
     "data": {
      "text/html": [
       "<style>\n",
       ".list-inline {list-style: none; margin:0; padding: 0}\n",
       ".list-inline>li {display: inline-block}\n",
       ".list-inline>li:not(:last-child)::after {content: \"\\00b7\"; padding: 0 .5ex}\n",
       "</style>\n",
       "<ol class=list-inline><li>'#A8E6CF'</li><li>'#171559'</li><li>'#F25C05'</li><li>'#660373'</li><li>'#F29F80'</li><li>'#FFD3B6'</li><li>'#1FC7FF'</li><li>'#D94169'</li><li>'#F29F80'</li><li>'#F25C05'</li><li>'#F2D0A7'</li><li>'#F28A80'</li><li>'#F29F05'</li><li>'#F2D0A7'</li><li>'#F24B88'</li><li>'#171559'</li><li>'#D916F2'</li><li>'#FFD3B6'</li><li>'#D916F2'</li><li>'#F29F80'</li><li>'#F28A80'</li><li>'#DCEDC1'</li><li>'#FFD3B6'</li><li>'#F25C05'</li><li>'#1FC7FF'</li><li>'#DCEDC1'</li><li>'#F2D0A7'</li><li>'#A8E6CF'</li><li>'#D94169'</li><li>'#F29F05'</li><li>'#B3A815'</li><li>'#D94169'</li><li>'#F26363'</li><li>'#F25C05'</li><li>'#F24B88'</li><li>'#FF1F59'</li><li>'#FFD3B6'</li><li>'#D916F2'</li><li>'#FF1F59'</li><li>'#A8E6CF'</li><li>'#171559'</li><li>'#F29F80'</li><li>'#F2CB05'</li><li>'#1FC7FF'</li><li>'#27A4F2'</li><li>'#DCEDC1'</li><li>'#B3A815'</li><li>'#DCEDC1'</li><li>'#F28A80'</li><li>'#27A4F2'</li><li>'#F2CB05'</li><li>'#F2D0A7'</li><li>'#A8E6CF'</li><li>'#FFF005'</li><li>'#660373'</li><li>'#171559'</li><li>'#660373'</li><li>'#F29F05'</li><li>'#F26363'</li><li>'#F2CB05'</li><li>'#FFF005'</li><li>'#FFF005'</li><li>'#B3A815'</li><li>'#1FC7FF'</li><li>'#FFF005'</li><li>'#B3A815'</li><li>'#F24B88'</li><li>'#F24B88'</li><li>'#27A4F2'</li><li>'#27A4F2'</li><li>'#D916F2'</li><li>'#F29F05'</li><li>'#D94169'</li><li>'#660373'</li><li>'#FF1F59'</li><li>'#F26363'</li><li>'#F28A80'</li><li>'#F2CB05'</li><li>'#F26363'</li><li>'#FF1F59'</li></ol>\n"
      ],
      "text/latex": [
       "\\begin{enumerate*}\n",
       "\\item '\\#A8E6CF'\n",
       "\\item '\\#171559'\n",
       "\\item '\\#F25C05'\n",
       "\\item '\\#660373'\n",
       "\\item '\\#F29F80'\n",
       "\\item '\\#FFD3B6'\n",
       "\\item '\\#1FC7FF'\n",
       "\\item '\\#D94169'\n",
       "\\item '\\#F29F80'\n",
       "\\item '\\#F25C05'\n",
       "\\item '\\#F2D0A7'\n",
       "\\item '\\#F28A80'\n",
       "\\item '\\#F29F05'\n",
       "\\item '\\#F2D0A7'\n",
       "\\item '\\#F24B88'\n",
       "\\item '\\#171559'\n",
       "\\item '\\#D916F2'\n",
       "\\item '\\#FFD3B6'\n",
       "\\item '\\#D916F2'\n",
       "\\item '\\#F29F80'\n",
       "\\item '\\#F28A80'\n",
       "\\item '\\#DCEDC1'\n",
       "\\item '\\#FFD3B6'\n",
       "\\item '\\#F25C05'\n",
       "\\item '\\#1FC7FF'\n",
       "\\item '\\#DCEDC1'\n",
       "\\item '\\#F2D0A7'\n",
       "\\item '\\#A8E6CF'\n",
       "\\item '\\#D94169'\n",
       "\\item '\\#F29F05'\n",
       "\\item '\\#B3A815'\n",
       "\\item '\\#D94169'\n",
       "\\item '\\#F26363'\n",
       "\\item '\\#F25C05'\n",
       "\\item '\\#F24B88'\n",
       "\\item '\\#FF1F59'\n",
       "\\item '\\#FFD3B6'\n",
       "\\item '\\#D916F2'\n",
       "\\item '\\#FF1F59'\n",
       "\\item '\\#A8E6CF'\n",
       "\\item '\\#171559'\n",
       "\\item '\\#F29F80'\n",
       "\\item '\\#F2CB05'\n",
       "\\item '\\#1FC7FF'\n",
       "\\item '\\#27A4F2'\n",
       "\\item '\\#DCEDC1'\n",
       "\\item '\\#B3A815'\n",
       "\\item '\\#DCEDC1'\n",
       "\\item '\\#F28A80'\n",
       "\\item '\\#27A4F2'\n",
       "\\item '\\#F2CB05'\n",
       "\\item '\\#F2D0A7'\n",
       "\\item '\\#A8E6CF'\n",
       "\\item '\\#FFF005'\n",
       "\\item '\\#660373'\n",
       "\\item '\\#171559'\n",
       "\\item '\\#660373'\n",
       "\\item '\\#F29F05'\n",
       "\\item '\\#F26363'\n",
       "\\item '\\#F2CB05'\n",
       "\\item '\\#FFF005'\n",
       "\\item '\\#FFF005'\n",
       "\\item '\\#B3A815'\n",
       "\\item '\\#1FC7FF'\n",
       "\\item '\\#FFF005'\n",
       "\\item '\\#B3A815'\n",
       "\\item '\\#F24B88'\n",
       "\\item '\\#F24B88'\n",
       "\\item '\\#27A4F2'\n",
       "\\item '\\#27A4F2'\n",
       "\\item '\\#D916F2'\n",
       "\\item '\\#F29F05'\n",
       "\\item '\\#D94169'\n",
       "\\item '\\#660373'\n",
       "\\item '\\#FF1F59'\n",
       "\\item '\\#F26363'\n",
       "\\item '\\#F28A80'\n",
       "\\item '\\#F2CB05'\n",
       "\\item '\\#F26363'\n",
       "\\item '\\#FF1F59'\n",
       "\\end{enumerate*}\n"
      ],
      "text/markdown": [
       "1. '#A8E6CF'\n",
       "2. '#171559'\n",
       "3. '#F25C05'\n",
       "4. '#660373'\n",
       "5. '#F29F80'\n",
       "6. '#FFD3B6'\n",
       "7. '#1FC7FF'\n",
       "8. '#D94169'\n",
       "9. '#F29F80'\n",
       "10. '#F25C05'\n",
       "11. '#F2D0A7'\n",
       "12. '#F28A80'\n",
       "13. '#F29F05'\n",
       "14. '#F2D0A7'\n",
       "15. '#F24B88'\n",
       "16. '#171559'\n",
       "17. '#D916F2'\n",
       "18. '#FFD3B6'\n",
       "19. '#D916F2'\n",
       "20. '#F29F80'\n",
       "21. '#F28A80'\n",
       "22. '#DCEDC1'\n",
       "23. '#FFD3B6'\n",
       "24. '#F25C05'\n",
       "25. '#1FC7FF'\n",
       "26. '#DCEDC1'\n",
       "27. '#F2D0A7'\n",
       "28. '#A8E6CF'\n",
       "29. '#D94169'\n",
       "30. '#F29F05'\n",
       "31. '#B3A815'\n",
       "32. '#D94169'\n",
       "33. '#F26363'\n",
       "34. '#F25C05'\n",
       "35. '#F24B88'\n",
       "36. '#FF1F59'\n",
       "37. '#FFD3B6'\n",
       "38. '#D916F2'\n",
       "39. '#FF1F59'\n",
       "40. '#A8E6CF'\n",
       "41. '#171559'\n",
       "42. '#F29F80'\n",
       "43. '#F2CB05'\n",
       "44. '#1FC7FF'\n",
       "45. '#27A4F2'\n",
       "46. '#DCEDC1'\n",
       "47. '#B3A815'\n",
       "48. '#DCEDC1'\n",
       "49. '#F28A80'\n",
       "50. '#27A4F2'\n",
       "51. '#F2CB05'\n",
       "52. '#F2D0A7'\n",
       "53. '#A8E6CF'\n",
       "54. '#FFF005'\n",
       "55. '#660373'\n",
       "56. '#171559'\n",
       "57. '#660373'\n",
       "58. '#F29F05'\n",
       "59. '#F26363'\n",
       "60. '#F2CB05'\n",
       "61. '#FFF005'\n",
       "62. '#FFF005'\n",
       "63. '#B3A815'\n",
       "64. '#1FC7FF'\n",
       "65. '#FFF005'\n",
       "66. '#B3A815'\n",
       "67. '#F24B88'\n",
       "68. '#F24B88'\n",
       "69. '#27A4F2'\n",
       "70. '#27A4F2'\n",
       "71. '#D916F2'\n",
       "72. '#F29F05'\n",
       "73. '#D94169'\n",
       "74. '#660373'\n",
       "75. '#FF1F59'\n",
       "76. '#F26363'\n",
       "77. '#F28A80'\n",
       "78. '#F2CB05'\n",
       "79. '#F26363'\n",
       "80. '#FF1F59'\n",
       "\n",
       "\n"
      ],
      "text/plain": [
       " [1] \"#A8E6CF\" \"#171559\" \"#F25C05\" \"#660373\" \"#F29F80\" \"#FFD3B6\" \"#1FC7FF\"\n",
       " [8] \"#D94169\" \"#F29F80\" \"#F25C05\" \"#F2D0A7\" \"#F28A80\" \"#F29F05\" \"#F2D0A7\"\n",
       "[15] \"#F24B88\" \"#171559\" \"#D916F2\" \"#FFD3B6\" \"#D916F2\" \"#F29F80\" \"#F28A80\"\n",
       "[22] \"#DCEDC1\" \"#FFD3B6\" \"#F25C05\" \"#1FC7FF\" \"#DCEDC1\" \"#F2D0A7\" \"#A8E6CF\"\n",
       "[29] \"#D94169\" \"#F29F05\" \"#B3A815\" \"#D94169\" \"#F26363\" \"#F25C05\" \"#F24B88\"\n",
       "[36] \"#FF1F59\" \"#FFD3B6\" \"#D916F2\" \"#FF1F59\" \"#A8E6CF\" \"#171559\" \"#F29F80\"\n",
       "[43] \"#F2CB05\" \"#1FC7FF\" \"#27A4F2\" \"#DCEDC1\" \"#B3A815\" \"#DCEDC1\" \"#F28A80\"\n",
       "[50] \"#27A4F2\" \"#F2CB05\" \"#F2D0A7\" \"#A8E6CF\" \"#FFF005\" \"#660373\" \"#171559\"\n",
       "[57] \"#660373\" \"#F29F05\" \"#F26363\" \"#F2CB05\" \"#FFF005\" \"#FFF005\" \"#B3A815\"\n",
       "[64] \"#1FC7FF\" \"#FFF005\" \"#B3A815\" \"#F24B88\" \"#F24B88\" \"#27A4F2\" \"#27A4F2\"\n",
       "[71] \"#D916F2\" \"#F29F05\" \"#D94169\" \"#660373\" \"#FF1F59\" \"#F26363\" \"#F28A80\"\n",
       "[78] \"#F2CB05\" \"#F26363\" \"#FF1F59\""
      ]
     },
     "metadata": {},
     "output_type": "display_data"
    }
   ],
   "source": []
  },
  {
   "cell_type": "code",
   "execution_count": 57,
   "id": "91e2e348",
   "metadata": {},
   "outputs": [],
   "source": [
    "mycolor <- c('#D916F2','#27A4F2','#AEB2F2','#F29F05','#F25C05',\n",
    "             \n",
    "             '#3FB8AF','#7FC7AF','#DAD8A7','#FF9E9D','#FF3D7F',\n",
    "             \n",
    "             '#04BF68', '#9E0522','#F2E638','#B8C591','#447622',\n",
    "             \n",
    "             '#6FA0A6', '#F2C230','#CEF280','#660373','#BF3326'\n",
    ")\n",
    "\n",
    "# set.seed(111)\n",
    "\n",
    "# color <- sample(rep(mycolor,2))\n",
    "\n",
    "\n",
    "\n",
    "# be_colors <- scales::seq_gradient_pal('#fef5f0', \"#990F0F\")(seq(0, 1, length.out = sum(grepl(\"^BE_module\", rownames(radar_plot_df)))))\n",
    "\n",
    "# healthy_colors <- scales::seq_gradient_pal(\"#cac5e4\", \"#260F99\")(seq(0, 1, length.out = sum(grepl(\"^Healthy\", rownames(radar_plot_df)))))\n",
    " \n",
    "# colors <- c(healthy_colors , be_colors)\n",
    "colors <- data.frame('modules' =colnames(plot_df)[grepl('module',colnames(plot_df))] ,'colors' =rep(mycolor,2)[1:33])"
   ]
  },
  {
   "cell_type": "code",
   "execution_count": 58,
   "id": "99e23f53",
   "metadata": {},
   "outputs": [
    {
     "data": {
      "text/html": [
       "<table class=\"dataframe\">\n",
       "<caption>A data.frame: 33 × 2</caption>\n",
       "<thead>\n",
       "\t<tr><th scope=col>modules</th><th scope=col>colors</th></tr>\n",
       "\t<tr><th scope=col>&lt;chr&gt;</th><th scope=col>&lt;chr&gt;</th></tr>\n",
       "</thead>\n",
       "<tbody>\n",
       "\t<tr><td>Healthy_module1 </td><td>#D916F2</td></tr>\n",
       "\t<tr><td>Healthy_module2 </td><td>#27A4F2</td></tr>\n",
       "\t<tr><td>Healthy_module3 </td><td>#AEB2F2</td></tr>\n",
       "\t<tr><td>Healthy_module4 </td><td>#F29F05</td></tr>\n",
       "\t<tr><td>Healthy_module5 </td><td>#F25C05</td></tr>\n",
       "\t<tr><td>Healthy_module6 </td><td>#3FB8AF</td></tr>\n",
       "\t<tr><td>Healthy_module7 </td><td>#7FC7AF</td></tr>\n",
       "\t<tr><td>Healthy_module8 </td><td>#DAD8A7</td></tr>\n",
       "\t<tr><td>Healthy_module9 </td><td>#FF9E9D</td></tr>\n",
       "\t<tr><td>Healthy_module10</td><td>#FF3D7F</td></tr>\n",
       "\t<tr><td>Healthy_module11</td><td>#04BF68</td></tr>\n",
       "\t<tr><td>Healthy_module12</td><td>#9E0522</td></tr>\n",
       "\t<tr><td>Healthy_module13</td><td>#F2E638</td></tr>\n",
       "\t<tr><td>Healthy_module14</td><td>#B8C591</td></tr>\n",
       "\t<tr><td>Healthy_module15</td><td>#447622</td></tr>\n",
       "\t<tr><td>Healthy_module16</td><td>#6FA0A6</td></tr>\n",
       "\t<tr><td>BE_module1      </td><td>#F2C230</td></tr>\n",
       "\t<tr><td>BE_module3      </td><td>#CEF280</td></tr>\n",
       "\t<tr><td>BE_module4      </td><td>#660373</td></tr>\n",
       "\t<tr><td>BE_module5      </td><td>#BF3326</td></tr>\n",
       "\t<tr><td>BE_module6      </td><td>#D916F2</td></tr>\n",
       "\t<tr><td>BE_module7      </td><td>#27A4F2</td></tr>\n",
       "\t<tr><td>BE_module8      </td><td>#AEB2F2</td></tr>\n",
       "\t<tr><td>BE_module10     </td><td>#F29F05</td></tr>\n",
       "\t<tr><td>BE_module11     </td><td>#F25C05</td></tr>\n",
       "\t<tr><td>BE_module12     </td><td>#3FB8AF</td></tr>\n",
       "\t<tr><td>BE_module14     </td><td>#7FC7AF</td></tr>\n",
       "\t<tr><td>BE_module15     </td><td>#DAD8A7</td></tr>\n",
       "\t<tr><td>BE_module16     </td><td>#FF9E9D</td></tr>\n",
       "\t<tr><td>BE_module17     </td><td>#FF3D7F</td></tr>\n",
       "\t<tr><td>BE_module18     </td><td>#04BF68</td></tr>\n",
       "\t<tr><td>BE_module19     </td><td>#9E0522</td></tr>\n",
       "\t<tr><td>BE_module21     </td><td>#F2E638</td></tr>\n",
       "</tbody>\n",
       "</table>\n"
      ],
      "text/latex": [
       "A data.frame: 33 × 2\n",
       "\\begin{tabular}{ll}\n",
       " modules & colors\\\\\n",
       " <chr> & <chr>\\\\\n",
       "\\hline\n",
       "\t Healthy\\_module1  & \\#D916F2\\\\\n",
       "\t Healthy\\_module2  & \\#27A4F2\\\\\n",
       "\t Healthy\\_module3  & \\#AEB2F2\\\\\n",
       "\t Healthy\\_module4  & \\#F29F05\\\\\n",
       "\t Healthy\\_module5  & \\#F25C05\\\\\n",
       "\t Healthy\\_module6  & \\#3FB8AF\\\\\n",
       "\t Healthy\\_module7  & \\#7FC7AF\\\\\n",
       "\t Healthy\\_module8  & \\#DAD8A7\\\\\n",
       "\t Healthy\\_module9  & \\#FF9E9D\\\\\n",
       "\t Healthy\\_module10 & \\#FF3D7F\\\\\n",
       "\t Healthy\\_module11 & \\#04BF68\\\\\n",
       "\t Healthy\\_module12 & \\#9E0522\\\\\n",
       "\t Healthy\\_module13 & \\#F2E638\\\\\n",
       "\t Healthy\\_module14 & \\#B8C591\\\\\n",
       "\t Healthy\\_module15 & \\#447622\\\\\n",
       "\t Healthy\\_module16 & \\#6FA0A6\\\\\n",
       "\t BE\\_module1       & \\#F2C230\\\\\n",
       "\t BE\\_module3       & \\#CEF280\\\\\n",
       "\t BE\\_module4       & \\#660373\\\\\n",
       "\t BE\\_module5       & \\#BF3326\\\\\n",
       "\t BE\\_module6       & \\#D916F2\\\\\n",
       "\t BE\\_module7       & \\#27A4F2\\\\\n",
       "\t BE\\_module8       & \\#AEB2F2\\\\\n",
       "\t BE\\_module10      & \\#F29F05\\\\\n",
       "\t BE\\_module11      & \\#F25C05\\\\\n",
       "\t BE\\_module12      & \\#3FB8AF\\\\\n",
       "\t BE\\_module14      & \\#7FC7AF\\\\\n",
       "\t BE\\_module15      & \\#DAD8A7\\\\\n",
       "\t BE\\_module16      & \\#FF9E9D\\\\\n",
       "\t BE\\_module17      & \\#FF3D7F\\\\\n",
       "\t BE\\_module18      & \\#04BF68\\\\\n",
       "\t BE\\_module19      & \\#9E0522\\\\\n",
       "\t BE\\_module21      & \\#F2E638\\\\\n",
       "\\end{tabular}\n"
      ],
      "text/markdown": [
       "\n",
       "A data.frame: 33 × 2\n",
       "\n",
       "| modules &lt;chr&gt; | colors &lt;chr&gt; |\n",
       "|---|---|\n",
       "| Healthy_module1  | #D916F2 |\n",
       "| Healthy_module2  | #27A4F2 |\n",
       "| Healthy_module3  | #AEB2F2 |\n",
       "| Healthy_module4  | #F29F05 |\n",
       "| Healthy_module5  | #F25C05 |\n",
       "| Healthy_module6  | #3FB8AF |\n",
       "| Healthy_module7  | #7FC7AF |\n",
       "| Healthy_module8  | #DAD8A7 |\n",
       "| Healthy_module9  | #FF9E9D |\n",
       "| Healthy_module10 | #FF3D7F |\n",
       "| Healthy_module11 | #04BF68 |\n",
       "| Healthy_module12 | #9E0522 |\n",
       "| Healthy_module13 | #F2E638 |\n",
       "| Healthy_module14 | #B8C591 |\n",
       "| Healthy_module15 | #447622 |\n",
       "| Healthy_module16 | #6FA0A6 |\n",
       "| BE_module1       | #F2C230 |\n",
       "| BE_module3       | #CEF280 |\n",
       "| BE_module4       | #660373 |\n",
       "| BE_module5       | #BF3326 |\n",
       "| BE_module6       | #D916F2 |\n",
       "| BE_module7       | #27A4F2 |\n",
       "| BE_module8       | #AEB2F2 |\n",
       "| BE_module10      | #F29F05 |\n",
       "| BE_module11      | #F25C05 |\n",
       "| BE_module12      | #3FB8AF |\n",
       "| BE_module14      | #7FC7AF |\n",
       "| BE_module15      | #DAD8A7 |\n",
       "| BE_module16      | #FF9E9D |\n",
       "| BE_module17      | #FF3D7F |\n",
       "| BE_module18      | #04BF68 |\n",
       "| BE_module19      | #9E0522 |\n",
       "| BE_module21      | #F2E638 |\n",
       "\n"
      ],
      "text/plain": [
       "   modules          colors \n",
       "1  Healthy_module1  #D916F2\n",
       "2  Healthy_module2  #27A4F2\n",
       "3  Healthy_module3  #AEB2F2\n",
       "4  Healthy_module4  #F29F05\n",
       "5  Healthy_module5  #F25C05\n",
       "6  Healthy_module6  #3FB8AF\n",
       "7  Healthy_module7  #7FC7AF\n",
       "8  Healthy_module8  #DAD8A7\n",
       "9  Healthy_module9  #FF9E9D\n",
       "10 Healthy_module10 #FF3D7F\n",
       "11 Healthy_module11 #04BF68\n",
       "12 Healthy_module12 #9E0522\n",
       "13 Healthy_module13 #F2E638\n",
       "14 Healthy_module14 #B8C591\n",
       "15 Healthy_module15 #447622\n",
       "16 Healthy_module16 #6FA0A6\n",
       "17 BE_module1       #F2C230\n",
       "18 BE_module3       #CEF280\n",
       "19 BE_module4       #660373\n",
       "20 BE_module5       #BF3326\n",
       "21 BE_module6       #D916F2\n",
       "22 BE_module7       #27A4F2\n",
       "23 BE_module8       #AEB2F2\n",
       "24 BE_module10      #F29F05\n",
       "25 BE_module11      #F25C05\n",
       "26 BE_module12      #3FB8AF\n",
       "27 BE_module14      #7FC7AF\n",
       "28 BE_module15      #DAD8A7\n",
       "29 BE_module16      #FF9E9D\n",
       "30 BE_module17      #FF3D7F\n",
       "31 BE_module18      #04BF68\n",
       "32 BE_module19      #9E0522\n",
       "33 BE_module21      #F2E638"
      ]
     },
     "metadata": {},
     "output_type": "display_data"
    }
   ],
   "source": [
    "colors"
   ]
  },
  {
   "cell_type": "code",
   "execution_count": 59,
   "id": "13e86f4b",
   "metadata": {},
   "outputs": [],
   "source": [
    "umap_theme <- function(){\n",
    "  theme(\n",
    "    axis.line=element_blank(),\n",
    "    axis.text.x=element_blank(),\n",
    "    axis.text.y=element_blank(),\n",
    "    axis.ticks=element_blank(),\n",
    "    axis.title.x=element_blank(),\n",
    "    axis.title.y=element_blank(),\n",
    "    panel.background=element_blank(),\n",
    "    panel.border=element_blank(),\n",
    "    panel.grid.major=element_blank(),\n",
    "    panel.grid.minor=element_blank(),\n",
    "    plot.background=element_blank(),\n",
    "    plot.title = element_text(hjust = 0.5)\n",
    "  )\n",
    "}\n"
   ]
  },
  {
   "cell_type": "code",
   "execution_count": 60,
   "id": "ac93c65e",
   "metadata": {},
   "outputs": [],
   "source": [
    "#   plot_list <- list()\n",
    "restrict_range = FALSE\n",
    "order_points = FALSE\n",
    "title=TRUE\n",
    "point_size = 0.2\n",
    "alpha=1\n",
    "label_legend = FALSE\n",
    "ucell = FALSE\n",
    "raster=TRUE\n",
    "raster_dpi=500\n",
    "raster_scale=1\n",
    "plot_ratio = 1\n",
    "title=TRUE"
   ]
  },
  {
   "cell_type": "code",
   "execution_count": 61,
   "id": "0cbb2bf4",
   "metadata": {},
   "outputs": [],
   "source": [
    "module_names <- colnames(plot_df)[-c(1,2)]"
   ]
  },
  {
   "cell_type": "code",
   "execution_count": 62,
   "id": "8d0c9131",
   "metadata": {},
   "outputs": [
    {
     "name": "stdout",
     "output_type": "stream",
     "text": [
      "[1] \"Healthy_module1\"\n",
      "[1] \"Healthy_module2\"\n",
      "[1] \"Healthy_module3\"\n",
      "[1] \"Healthy_module4\"\n",
      "[1] \"Healthy_module5\"\n",
      "[1] \"Healthy_module6\"\n",
      "[1] \"Healthy_module7\"\n",
      "[1] \"Healthy_module8\"\n",
      "[1] \"Healthy_module9\"\n",
      "[1] \"Healthy_module10\"\n",
      "[1] \"Healthy_module11\"\n",
      "[1] \"Healthy_module12\"\n",
      "[1] \"Healthy_module13\"\n",
      "[1] \"Healthy_module14\"\n",
      "[1] \"Healthy_module15\"\n",
      "[1] \"Healthy_module16\"\n",
      "[1] \"BE_module1\"\n",
      "[1] \"BE_module3\"\n",
      "[1] \"BE_module4\"\n",
      "[1] \"BE_module5\"\n",
      "[1] \"BE_module6\"\n",
      "[1] \"BE_module7\"\n",
      "[1] \"BE_module8\"\n",
      "[1] \"BE_module10\"\n",
      "[1] \"BE_module11\"\n",
      "[1] \"BE_module12\"\n",
      "[1] \"BE_module14\"\n",
      "[1] \"BE_module15\"\n",
      "[1] \"BE_module16\"\n",
      "[1] \"BE_module17\"\n",
      "[1] \"BE_module18\"\n",
      "[1] \"BE_module19\"\n",
      "[1] \"BE_module21\"\n"
     ]
    }
   ],
   "source": [
    "plot_list <- list()\n",
    "\n",
    "  for(cur_mod in module_names){\n",
    "\n",
    "    print(cur_mod)\n",
    "\n",
    "    # get the color for this module:\n",
    "    cur_color <- colors %>% subset(modules == cur_mod) %>% .$colors %>% unique\n",
    "\n",
    "    # reset the range of the plot:\n",
    "    plot_range <- plot_df[,cur_mod] %>% range\n",
    "    if(restrict_range){\n",
    "      if(abs(plot_range[1]) > abs(plot_range[2])){\n",
    "        plot_range[1] <- -1*plot_range[2]\n",
    "      } else{\n",
    "        plot_range[2] <- -1*plot_range[1]\n",
    "      }\n",
    "      plot_df[,cur_mod] <- ifelse(plot_df[,cur_mod] > plot_range[2], plot_range[2], plot_df[,cur_mod])\n",
    "      plot_df[,cur_mod] <- ifelse(plot_df[,cur_mod] < plot_range[1], plot_range[1], plot_df[,cur_mod])\n",
    "    }\n",
    "\n",
    "    cur_plot_df <- plot_df[,c(colnames(umap), cur_mod)]\n",
    "    colnames(cur_plot_df)[3] <- \"val\"\n",
    "\n",
    "    # order points:\n",
    "    if(order_points == TRUE){\n",
    "      cur_plot_df <- cur_plot_df %>% dplyr::arrange(val)\n",
    "    } else if(order_points == \"shuffle\"){\n",
    "      cur_plot_df <- cur_plot_df[sample(nrow(cur_plot_df)),]\n",
    "    }\n",
    "\n",
    "    # plot with ggplot\n",
    "    p <- cur_plot_df %>%\n",
    "      ggplot(aes_string(x=x_name, y=y_name, color=\"val\"))\n",
    "\n",
    "    # rasterise?\n",
    "    if(raster){\n",
    "      p <- p + ggrastr::rasterise(geom_point(size=point_size, alpha=alpha), dpi=raster_dpi, scale=raster_scale)\n",
    "    } else{\n",
    "      p <- p + geom_point(size=point_size, alpha=alpha)\n",
    "    }\n",
    "\n",
    "    # add title and theme:\n",
    "    p <- p + umap_theme() + labs(color=\"\")\n",
    "\n",
    "    if(title){\n",
    "      p <- p + ggtitle(cur_mod)\n",
    "    }\n",
    "\n",
    "    # aspect ratio:\n",
    "    if(is.numeric(plot_ratio)){\n",
    "      p <- p + coord_fixed(ratio = plot_ratio)\n",
    "    }\n",
    "\n",
    "    # UCell?\n",
    "    if(!ucell){\n",
    "      p <- p + scale_color_gradient2(\n",
    "        low='grey75', mid='grey95', high=cur_color,\n",
    "        breaks = plot_range,\n",
    "        labels = c('-', '+'),\n",
    "        guide = guide_colorbar(ticks=FALSE, barwidth=0.5, barheight=4)\n",
    "      )\n",
    "    } else{\n",
    "      p <- p + scale_color_gradient(\n",
    "        low='grey95', high=cur_color,\n",
    "        breaks = plot_range,\n",
    "        labels = c('0', '+'),\n",
    "        guide = guide_colorbar(ticks=FALSE, barwidth=0.5, barheight=4)\n",
    "      )\n",
    "    }\n",
    "    plot_list[[cur_mod]] <- p\n",
    "\n",
    "  }\n",
    "\n",
    "  # return plot\n",
    "  if(length(plot_list) == 1){\n",
    "    p <- plot_list[[1]]\n",
    "  } else{\n",
    "    p <- plot_list\n",
    "  }\n",
    "\n",
    "\n",
    "\n"
   ]
  },
  {
   "cell_type": "code",
   "execution_count": 63,
   "id": "3a255280",
   "metadata": {},
   "outputs": [
    {
     "data": {
      "text/html": [
       "<strong>pdf:</strong> 2"
      ],
      "text/latex": [
       "\\textbf{pdf:} 2"
      ],
      "text/markdown": [
       "**pdf:** 2"
      ],
      "text/plain": [
       "pdf \n",
       "  2 "
      ]
     },
     "metadata": {},
     "output_type": "display_data"
    }
   ],
   "source": [
    "png('./05_FiguresforPresentation/03_Healthy_module_UMAP.png',width = 12,height = 12,units = 'in',res = 300)\n",
    "\n",
    "wrap_plots(plot_list[1:16], ncol=4)\n",
    "dev.off()"
   ]
  },
  {
   "cell_type": "code",
   "execution_count": 64,
   "id": "144516d4",
   "metadata": {},
   "outputs": [
    {
     "data": {
      "text/html": [
       "<strong>pdf:</strong> 2"
      ],
      "text/latex": [
       "\\textbf{pdf:} 2"
      ],
      "text/markdown": [
       "**pdf:** 2"
      ],
      "text/plain": [
       "pdf \n",
       "  2 "
      ]
     },
     "metadata": {},
     "output_type": "display_data"
    }
   ],
   "source": [
    "pdf('./05_FiguresforPresentation/03_Healthy_module_UMAP.pdf',width = 12,height = 12)\n",
    "\n",
    "wrap_plots(plot_list[1:16], ncol=4)\n",
    "dev.off()"
   ]
  },
  {
   "cell_type": "code",
   "execution_count": 65,
   "id": "56834b06",
   "metadata": {},
   "outputs": [
    {
     "data": {
      "text/html": [
       "<strong>pdf:</strong> 2"
      ],
      "text/latex": [
       "\\textbf{pdf:} 2"
      ],
      "text/markdown": [
       "**pdf:** 2"
      ],
      "text/plain": [
       "pdf \n",
       "  2 "
      ]
     },
     "metadata": {},
     "output_type": "display_data"
    }
   ],
   "source": [
    "png('./05_FiguresforPresentation/03_BE_module_UMAP.png',width = 12,height = 16,units = 'in',res = 300)\n",
    "\n",
    "wrap_plots(plot_list[17:length(plot_list)], ncol=4)\n",
    "dev.off()"
   ]
  },
  {
   "cell_type": "code",
   "execution_count": 66,
   "id": "bc38ce53",
   "metadata": {},
   "outputs": [
    {
     "data": {
      "text/html": [
       "<strong>pdf:</strong> 2"
      ],
      "text/latex": [
       "\\textbf{pdf:} 2"
      ],
      "text/markdown": [
       "**pdf:** 2"
      ],
      "text/plain": [
       "pdf \n",
       "  2 "
      ]
     },
     "metadata": {},
     "output_type": "display_data"
    }
   ],
   "source": [
    "pdf('./05_FiguresforPresentation/03_BE_module_UMAP.pdf',width = 12,height = 16)\n",
    "\n",
    "wrap_plots(plot_list[17:length(plot_list)], ncol=4)\n",
    "dev.off()"
   ]
  },
  {
   "cell_type": "code",
   "execution_count": 68,
   "id": "e41104b3",
   "metadata": {},
   "outputs": [
    {
     "data": {
      "text/html": [
       "<table class=\"dataframe\">\n",
       "<caption>A data.frame: 6 × 35</caption>\n",
       "<thead>\n",
       "\t<tr><th></th><th scope=col>UMAP_1</th><th scope=col>UMAP_2</th><th scope=col>Healthy_module1</th><th scope=col>Healthy_module2</th><th scope=col>Healthy_module3</th><th scope=col>Healthy_module4</th><th scope=col>Healthy_module5</th><th scope=col>Healthy_module6</th><th scope=col>Healthy_module7</th><th scope=col>Healthy_module8</th><th scope=col>⋯</th><th scope=col>BE_module10</th><th scope=col>BE_module11</th><th scope=col>BE_module12</th><th scope=col>BE_module14</th><th scope=col>BE_module15</th><th scope=col>BE_module16</th><th scope=col>BE_module17</th><th scope=col>BE_module18</th><th scope=col>BE_module19</th><th scope=col>BE_module21</th></tr>\n",
       "\t<tr><th></th><th scope=col>&lt;dbl&gt;</th><th scope=col>&lt;dbl&gt;</th><th scope=col>&lt;dbl&gt;</th><th scope=col>&lt;dbl&gt;</th><th scope=col>&lt;dbl&gt;</th><th scope=col>&lt;dbl&gt;</th><th scope=col>&lt;dbl&gt;</th><th scope=col>&lt;dbl&gt;</th><th scope=col>&lt;dbl&gt;</th><th scope=col>&lt;dbl&gt;</th><th scope=col>⋯</th><th scope=col>&lt;dbl&gt;</th><th scope=col>&lt;dbl&gt;</th><th scope=col>&lt;dbl&gt;</th><th scope=col>&lt;dbl&gt;</th><th scope=col>&lt;dbl&gt;</th><th scope=col>&lt;dbl&gt;</th><th scope=col>&lt;dbl&gt;</th><th scope=col>&lt;dbl&gt;</th><th scope=col>&lt;dbl&gt;</th><th scope=col>&lt;dbl&gt;</th></tr>\n",
       "</thead>\n",
       "<tbody>\n",
       "\t<tr><th scope=row>Patient13_SIGAE8_NG-AGTAGTCAGCTACCTA-1</th><td> -3.776699</td><td>-4.8662829</td><td>0.00000000</td><td>0.1680678</td><td>0.1301370</td><td>0.27967527</td><td>0.07635716</td><td>0.6489002</td><td>0.1389552</td><td>0.3886308</td><td>⋯</td><td>0.2494370</td><td>0.06739966</td><td>0.06857625</td><td>0.0000000</td><td>0.6680260</td><td>0.00000000</td><td>0.1845273</td><td>0.8864495</td><td>0.41876968</td><td>0.1805582</td></tr>\n",
       "\t<tr><th scope=row>GSM3954949-ATCTGCCCAAGAAGAG-1</th><td>  1.741662</td><td>-1.5209520</td><td>0.00000000</td><td>0.2216271</td><td>0.1218420</td><td>0.06641207</td><td>0.08756328</td><td>0.2562334</td><td>0.1250320</td><td>0.4107670</td><td>⋯</td><td>0.1659996</td><td>0.09662052</td><td>0.09262498</td><td>0.1983221</td><td>0.2543439</td><td>0.10341308</td><td>0.1737231</td><td>0.8148601</td><td>0.02754566</td><td>0.2694819</td></tr>\n",
       "\t<tr><th scope=row>GSM3954948-GCTTGAATCGTCTGCT-1</th><td>-11.323230</td><td> 3.3719873</td><td>0.00000000</td><td>0.2561695</td><td>0.1882258</td><td>0.24699765</td><td>0.27030281</td><td>0.6082880</td><td>0.1461834</td><td>0.2818638</td><td>⋯</td><td>0.3177271</td><td>0.06409981</td><td>0.11221130</td><td>0.1864933</td><td>0.6753018</td><td>0.55774022</td><td>0.1933530</td><td>0.8439158</td><td>0.44035272</td><td>0.2630293</td></tr>\n",
       "\t<tr><th scope=row>GSM3954950-AGCGTATTCTGTCAAG-1</th><td> -1.943222</td><td>-0.2695549</td><td>0.00000000</td><td>0.2153220</td><td>0.1572380</td><td>0.07257290</td><td>0.09518573</td><td>0.3024413</td><td>0.1226439</td><td>0.1851470</td><td>⋯</td><td>0.2009819</td><td>0.05772084</td><td>0.13746608</td><td>0.0000000</td><td>0.3341424</td><td>0.03542161</td><td>0.1528150</td><td>0.9038983</td><td>0.07066975</td><td>0.3401550</td></tr>\n",
       "\t<tr><th scope=row>SRR8513799-CTTCTCTAGAGCTATA-1</th><td> -3.202537</td><td> 8.2289638</td><td>0.04035309</td><td>0.3454237</td><td>0.1623454</td><td>0.29345006</td><td>0.15607994</td><td>0.6932451</td><td>0.5994030</td><td>0.2322007</td><td>⋯</td><td>0.3209494</td><td>0.09399684</td><td>0.02662968</td><td>0.1216443</td><td>0.7320189</td><td>0.12082370</td><td>0.5727783</td><td>0.9675461</td><td>0.26747848</td><td>0.3104120</td></tr>\n",
       "\t<tr><th scope=row>GSM3954951-AGAGCTTCAAGTTAAG-1</th><td>  4.928486</td><td>-3.3897050</td><td>0.00000000</td><td>0.2149831</td><td>0.1807603</td><td>0.22949993</td><td>0.09295777</td><td>0.5153514</td><td>0.2044136</td><td>0.5520717</td><td>⋯</td><td>0.3301153</td><td>0.08366141</td><td>0.20352168</td><td>0.1937081</td><td>0.5298770</td><td>0.14162639</td><td>0.2015895</td><td>0.8751480</td><td>0.06311148</td><td>0.3192318</td></tr>\n",
       "</tbody>\n",
       "</table>\n"
      ],
      "text/latex": [
       "A data.frame: 6 × 35\n",
       "\\begin{tabular}{r|lllllllllllllllllllll}\n",
       "  & UMAP\\_1 & UMAP\\_2 & Healthy\\_module1 & Healthy\\_module2 & Healthy\\_module3 & Healthy\\_module4 & Healthy\\_module5 & Healthy\\_module6 & Healthy\\_module7 & Healthy\\_module8 & ⋯ & BE\\_module10 & BE\\_module11 & BE\\_module12 & BE\\_module14 & BE\\_module15 & BE\\_module16 & BE\\_module17 & BE\\_module18 & BE\\_module19 & BE\\_module21\\\\\n",
       "  & <dbl> & <dbl> & <dbl> & <dbl> & <dbl> & <dbl> & <dbl> & <dbl> & <dbl> & <dbl> & ⋯ & <dbl> & <dbl> & <dbl> & <dbl> & <dbl> & <dbl> & <dbl> & <dbl> & <dbl> & <dbl>\\\\\n",
       "\\hline\n",
       "\tPatient13\\_SIGAE8\\_NG-AGTAGTCAGCTACCTA-1 &  -3.776699 & -4.8662829 & 0.00000000 & 0.1680678 & 0.1301370 & 0.27967527 & 0.07635716 & 0.6489002 & 0.1389552 & 0.3886308 & ⋯ & 0.2494370 & 0.06739966 & 0.06857625 & 0.0000000 & 0.6680260 & 0.00000000 & 0.1845273 & 0.8864495 & 0.41876968 & 0.1805582\\\\\n",
       "\tGSM3954949-ATCTGCCCAAGAAGAG-1 &   1.741662 & -1.5209520 & 0.00000000 & 0.2216271 & 0.1218420 & 0.06641207 & 0.08756328 & 0.2562334 & 0.1250320 & 0.4107670 & ⋯ & 0.1659996 & 0.09662052 & 0.09262498 & 0.1983221 & 0.2543439 & 0.10341308 & 0.1737231 & 0.8148601 & 0.02754566 & 0.2694819\\\\\n",
       "\tGSM3954948-GCTTGAATCGTCTGCT-1 & -11.323230 &  3.3719873 & 0.00000000 & 0.2561695 & 0.1882258 & 0.24699765 & 0.27030281 & 0.6082880 & 0.1461834 & 0.2818638 & ⋯ & 0.3177271 & 0.06409981 & 0.11221130 & 0.1864933 & 0.6753018 & 0.55774022 & 0.1933530 & 0.8439158 & 0.44035272 & 0.2630293\\\\\n",
       "\tGSM3954950-AGCGTATTCTGTCAAG-1 &  -1.943222 & -0.2695549 & 0.00000000 & 0.2153220 & 0.1572380 & 0.07257290 & 0.09518573 & 0.3024413 & 0.1226439 & 0.1851470 & ⋯ & 0.2009819 & 0.05772084 & 0.13746608 & 0.0000000 & 0.3341424 & 0.03542161 & 0.1528150 & 0.9038983 & 0.07066975 & 0.3401550\\\\\n",
       "\tSRR8513799-CTTCTCTAGAGCTATA-1 &  -3.202537 &  8.2289638 & 0.04035309 & 0.3454237 & 0.1623454 & 0.29345006 & 0.15607994 & 0.6932451 & 0.5994030 & 0.2322007 & ⋯ & 0.3209494 & 0.09399684 & 0.02662968 & 0.1216443 & 0.7320189 & 0.12082370 & 0.5727783 & 0.9675461 & 0.26747848 & 0.3104120\\\\\n",
       "\tGSM3954951-AGAGCTTCAAGTTAAG-1 &   4.928486 & -3.3897050 & 0.00000000 & 0.2149831 & 0.1807603 & 0.22949993 & 0.09295777 & 0.5153514 & 0.2044136 & 0.5520717 & ⋯ & 0.3301153 & 0.08366141 & 0.20352168 & 0.1937081 & 0.5298770 & 0.14162639 & 0.2015895 & 0.8751480 & 0.06311148 & 0.3192318\\\\\n",
       "\\end{tabular}\n"
      ],
      "text/markdown": [
       "\n",
       "A data.frame: 6 × 35\n",
       "\n",
       "| <!--/--> | UMAP_1 &lt;dbl&gt; | UMAP_2 &lt;dbl&gt; | Healthy_module1 &lt;dbl&gt; | Healthy_module2 &lt;dbl&gt; | Healthy_module3 &lt;dbl&gt; | Healthy_module4 &lt;dbl&gt; | Healthy_module5 &lt;dbl&gt; | Healthy_module6 &lt;dbl&gt; | Healthy_module7 &lt;dbl&gt; | Healthy_module8 &lt;dbl&gt; | ⋯ ⋯ | BE_module10 &lt;dbl&gt; | BE_module11 &lt;dbl&gt; | BE_module12 &lt;dbl&gt; | BE_module14 &lt;dbl&gt; | BE_module15 &lt;dbl&gt; | BE_module16 &lt;dbl&gt; | BE_module17 &lt;dbl&gt; | BE_module18 &lt;dbl&gt; | BE_module19 &lt;dbl&gt; | BE_module21 &lt;dbl&gt; |\n",
       "|---|---|---|---|---|---|---|---|---|---|---|---|---|---|---|---|---|---|---|---|---|---|\n",
       "| Patient13_SIGAE8_NG-AGTAGTCAGCTACCTA-1 |  -3.776699 | -4.8662829 | 0.00000000 | 0.1680678 | 0.1301370 | 0.27967527 | 0.07635716 | 0.6489002 | 0.1389552 | 0.3886308 | ⋯ | 0.2494370 | 0.06739966 | 0.06857625 | 0.0000000 | 0.6680260 | 0.00000000 | 0.1845273 | 0.8864495 | 0.41876968 | 0.1805582 |\n",
       "| GSM3954949-ATCTGCCCAAGAAGAG-1 |   1.741662 | -1.5209520 | 0.00000000 | 0.2216271 | 0.1218420 | 0.06641207 | 0.08756328 | 0.2562334 | 0.1250320 | 0.4107670 | ⋯ | 0.1659996 | 0.09662052 | 0.09262498 | 0.1983221 | 0.2543439 | 0.10341308 | 0.1737231 | 0.8148601 | 0.02754566 | 0.2694819 |\n",
       "| GSM3954948-GCTTGAATCGTCTGCT-1 | -11.323230 |  3.3719873 | 0.00000000 | 0.2561695 | 0.1882258 | 0.24699765 | 0.27030281 | 0.6082880 | 0.1461834 | 0.2818638 | ⋯ | 0.3177271 | 0.06409981 | 0.11221130 | 0.1864933 | 0.6753018 | 0.55774022 | 0.1933530 | 0.8439158 | 0.44035272 | 0.2630293 |\n",
       "| GSM3954950-AGCGTATTCTGTCAAG-1 |  -1.943222 | -0.2695549 | 0.00000000 | 0.2153220 | 0.1572380 | 0.07257290 | 0.09518573 | 0.3024413 | 0.1226439 | 0.1851470 | ⋯ | 0.2009819 | 0.05772084 | 0.13746608 | 0.0000000 | 0.3341424 | 0.03542161 | 0.1528150 | 0.9038983 | 0.07066975 | 0.3401550 |\n",
       "| SRR8513799-CTTCTCTAGAGCTATA-1 |  -3.202537 |  8.2289638 | 0.04035309 | 0.3454237 | 0.1623454 | 0.29345006 | 0.15607994 | 0.6932451 | 0.5994030 | 0.2322007 | ⋯ | 0.3209494 | 0.09399684 | 0.02662968 | 0.1216443 | 0.7320189 | 0.12082370 | 0.5727783 | 0.9675461 | 0.26747848 | 0.3104120 |\n",
       "| GSM3954951-AGAGCTTCAAGTTAAG-1 |   4.928486 | -3.3897050 | 0.00000000 | 0.2149831 | 0.1807603 | 0.22949993 | 0.09295777 | 0.5153514 | 0.2044136 | 0.5520717 | ⋯ | 0.3301153 | 0.08366141 | 0.20352168 | 0.1937081 | 0.5298770 | 0.14162639 | 0.2015895 | 0.8751480 | 0.06311148 | 0.3192318 |\n",
       "\n"
      ],
      "text/plain": [
       "                                       UMAP_1     UMAP_2     Healthy_module1\n",
       "Patient13_SIGAE8_NG-AGTAGTCAGCTACCTA-1  -3.776699 -4.8662829 0.00000000     \n",
       "GSM3954949-ATCTGCCCAAGAAGAG-1            1.741662 -1.5209520 0.00000000     \n",
       "GSM3954948-GCTTGAATCGTCTGCT-1          -11.323230  3.3719873 0.00000000     \n",
       "GSM3954950-AGCGTATTCTGTCAAG-1           -1.943222 -0.2695549 0.00000000     \n",
       "SRR8513799-CTTCTCTAGAGCTATA-1           -3.202537  8.2289638 0.04035309     \n",
       "GSM3954951-AGAGCTTCAAGTTAAG-1            4.928486 -3.3897050 0.00000000     \n",
       "                                       Healthy_module2 Healthy_module3\n",
       "Patient13_SIGAE8_NG-AGTAGTCAGCTACCTA-1 0.1680678       0.1301370      \n",
       "GSM3954949-ATCTGCCCAAGAAGAG-1          0.2216271       0.1218420      \n",
       "GSM3954948-GCTTGAATCGTCTGCT-1          0.2561695       0.1882258      \n",
       "GSM3954950-AGCGTATTCTGTCAAG-1          0.2153220       0.1572380      \n",
       "SRR8513799-CTTCTCTAGAGCTATA-1          0.3454237       0.1623454      \n",
       "GSM3954951-AGAGCTTCAAGTTAAG-1          0.2149831       0.1807603      \n",
       "                                       Healthy_module4 Healthy_module5\n",
       "Patient13_SIGAE8_NG-AGTAGTCAGCTACCTA-1 0.27967527      0.07635716     \n",
       "GSM3954949-ATCTGCCCAAGAAGAG-1          0.06641207      0.08756328     \n",
       "GSM3954948-GCTTGAATCGTCTGCT-1          0.24699765      0.27030281     \n",
       "GSM3954950-AGCGTATTCTGTCAAG-1          0.07257290      0.09518573     \n",
       "SRR8513799-CTTCTCTAGAGCTATA-1          0.29345006      0.15607994     \n",
       "GSM3954951-AGAGCTTCAAGTTAAG-1          0.22949993      0.09295777     \n",
       "                                       Healthy_module6 Healthy_module7\n",
       "Patient13_SIGAE8_NG-AGTAGTCAGCTACCTA-1 0.6489002       0.1389552      \n",
       "GSM3954949-ATCTGCCCAAGAAGAG-1          0.2562334       0.1250320      \n",
       "GSM3954948-GCTTGAATCGTCTGCT-1          0.6082880       0.1461834      \n",
       "GSM3954950-AGCGTATTCTGTCAAG-1          0.3024413       0.1226439      \n",
       "SRR8513799-CTTCTCTAGAGCTATA-1          0.6932451       0.5994030      \n",
       "GSM3954951-AGAGCTTCAAGTTAAG-1          0.5153514       0.2044136      \n",
       "                                       Healthy_module8 ⋯ BE_module10\n",
       "Patient13_SIGAE8_NG-AGTAGTCAGCTACCTA-1 0.3886308       ⋯ 0.2494370  \n",
       "GSM3954949-ATCTGCCCAAGAAGAG-1          0.4107670       ⋯ 0.1659996  \n",
       "GSM3954948-GCTTGAATCGTCTGCT-1          0.2818638       ⋯ 0.3177271  \n",
       "GSM3954950-AGCGTATTCTGTCAAG-1          0.1851470       ⋯ 0.2009819  \n",
       "SRR8513799-CTTCTCTAGAGCTATA-1          0.2322007       ⋯ 0.3209494  \n",
       "GSM3954951-AGAGCTTCAAGTTAAG-1          0.5520717       ⋯ 0.3301153  \n",
       "                                       BE_module11 BE_module12 BE_module14\n",
       "Patient13_SIGAE8_NG-AGTAGTCAGCTACCTA-1 0.06739966  0.06857625  0.0000000  \n",
       "GSM3954949-ATCTGCCCAAGAAGAG-1          0.09662052  0.09262498  0.1983221  \n",
       "GSM3954948-GCTTGAATCGTCTGCT-1          0.06409981  0.11221130  0.1864933  \n",
       "GSM3954950-AGCGTATTCTGTCAAG-1          0.05772084  0.13746608  0.0000000  \n",
       "SRR8513799-CTTCTCTAGAGCTATA-1          0.09399684  0.02662968  0.1216443  \n",
       "GSM3954951-AGAGCTTCAAGTTAAG-1          0.08366141  0.20352168  0.1937081  \n",
       "                                       BE_module15 BE_module16 BE_module17\n",
       "Patient13_SIGAE8_NG-AGTAGTCAGCTACCTA-1 0.6680260   0.00000000  0.1845273  \n",
       "GSM3954949-ATCTGCCCAAGAAGAG-1          0.2543439   0.10341308  0.1737231  \n",
       "GSM3954948-GCTTGAATCGTCTGCT-1          0.6753018   0.55774022  0.1933530  \n",
       "GSM3954950-AGCGTATTCTGTCAAG-1          0.3341424   0.03542161  0.1528150  \n",
       "SRR8513799-CTTCTCTAGAGCTATA-1          0.7320189   0.12082370  0.5727783  \n",
       "GSM3954951-AGAGCTTCAAGTTAAG-1          0.5298770   0.14162639  0.2015895  \n",
       "                                       BE_module18 BE_module19 BE_module21\n",
       "Patient13_SIGAE8_NG-AGTAGTCAGCTACCTA-1 0.8864495   0.41876968  0.1805582  \n",
       "GSM3954949-ATCTGCCCAAGAAGAG-1          0.8148601   0.02754566  0.2694819  \n",
       "GSM3954948-GCTTGAATCGTCTGCT-1          0.8439158   0.44035272  0.2630293  \n",
       "GSM3954950-AGCGTATTCTGTCAAG-1          0.9038983   0.07066975  0.3401550  \n",
       "SRR8513799-CTTCTCTAGAGCTATA-1          0.9675461   0.26747848  0.3104120  \n",
       "GSM3954951-AGAGCTTCAAGTTAAG-1          0.8751480   0.06311148  0.3192318  "
      ]
     },
     "metadata": {},
     "output_type": "display_data"
    },
    {
     "data": {
      "text/html": [
       "<style>\n",
       ".list-inline {list-style: none; margin:0; padding: 0}\n",
       ".list-inline>li {display: inline-block}\n",
       ".list-inline>li:not(:last-child)::after {content: \"\\00b7\"; padding: 0 .5ex}\n",
       "</style>\n",
       "<ol class=list-inline><li>'UMAP_1'</li><li>'UMAP_2'</li><li>'Healthy_module1'</li><li>'Healthy_module2'</li><li>'Healthy_module3'</li><li>'Healthy_module4'</li><li>'Healthy_module5'</li><li>'Healthy_module6'</li><li>'Healthy_module7'</li><li>'Healthy_module8'</li><li>'Healthy_module9'</li><li>'Healthy_module10'</li><li>'Healthy_module11'</li><li>'Healthy_module12'</li><li>'Healthy_module13'</li><li>'Healthy_module14'</li><li>'Healthy_module15'</li><li>'Healthy_module16'</li><li>'BE_module1'</li><li>'BE_module3'</li><li>'BE_module4'</li><li>'BE_module5'</li><li>'BE_module6'</li><li>'BE_module7'</li><li>'BE_module8'</li><li>'BE_module10'</li><li>'BE_module11'</li><li>'BE_module12'</li><li>'BE_module14'</li><li>'BE_module15'</li><li>'BE_module16'</li><li>'BE_module17'</li><li>'BE_module18'</li><li>'BE_module19'</li><li>'BE_module21'</li></ol>\n"
      ],
      "text/latex": [
       "\\begin{enumerate*}\n",
       "\\item 'UMAP\\_1'\n",
       "\\item 'UMAP\\_2'\n",
       "\\item 'Healthy\\_module1'\n",
       "\\item 'Healthy\\_module2'\n",
       "\\item 'Healthy\\_module3'\n",
       "\\item 'Healthy\\_module4'\n",
       "\\item 'Healthy\\_module5'\n",
       "\\item 'Healthy\\_module6'\n",
       "\\item 'Healthy\\_module7'\n",
       "\\item 'Healthy\\_module8'\n",
       "\\item 'Healthy\\_module9'\n",
       "\\item 'Healthy\\_module10'\n",
       "\\item 'Healthy\\_module11'\n",
       "\\item 'Healthy\\_module12'\n",
       "\\item 'Healthy\\_module13'\n",
       "\\item 'Healthy\\_module14'\n",
       "\\item 'Healthy\\_module15'\n",
       "\\item 'Healthy\\_module16'\n",
       "\\item 'BE\\_module1'\n",
       "\\item 'BE\\_module3'\n",
       "\\item 'BE\\_module4'\n",
       "\\item 'BE\\_module5'\n",
       "\\item 'BE\\_module6'\n",
       "\\item 'BE\\_module7'\n",
       "\\item 'BE\\_module8'\n",
       "\\item 'BE\\_module10'\n",
       "\\item 'BE\\_module11'\n",
       "\\item 'BE\\_module12'\n",
       "\\item 'BE\\_module14'\n",
       "\\item 'BE\\_module15'\n",
       "\\item 'BE\\_module16'\n",
       "\\item 'BE\\_module17'\n",
       "\\item 'BE\\_module18'\n",
       "\\item 'BE\\_module19'\n",
       "\\item 'BE\\_module21'\n",
       "\\end{enumerate*}\n"
      ],
      "text/markdown": [
       "1. 'UMAP_1'\n",
       "2. 'UMAP_2'\n",
       "3. 'Healthy_module1'\n",
       "4. 'Healthy_module2'\n",
       "5. 'Healthy_module3'\n",
       "6. 'Healthy_module4'\n",
       "7. 'Healthy_module5'\n",
       "8. 'Healthy_module6'\n",
       "9. 'Healthy_module7'\n",
       "10. 'Healthy_module8'\n",
       "11. 'Healthy_module9'\n",
       "12. 'Healthy_module10'\n",
       "13. 'Healthy_module11'\n",
       "14. 'Healthy_module12'\n",
       "15. 'Healthy_module13'\n",
       "16. 'Healthy_module14'\n",
       "17. 'Healthy_module15'\n",
       "18. 'Healthy_module16'\n",
       "19. 'BE_module1'\n",
       "20. 'BE_module3'\n",
       "21. 'BE_module4'\n",
       "22. 'BE_module5'\n",
       "23. 'BE_module6'\n",
       "24. 'BE_module7'\n",
       "25. 'BE_module8'\n",
       "26. 'BE_module10'\n",
       "27. 'BE_module11'\n",
       "28. 'BE_module12'\n",
       "29. 'BE_module14'\n",
       "30. 'BE_module15'\n",
       "31. 'BE_module16'\n",
       "32. 'BE_module17'\n",
       "33. 'BE_module18'\n",
       "34. 'BE_module19'\n",
       "35. 'BE_module21'\n",
       "\n",
       "\n"
      ],
      "text/plain": [
       " [1] \"UMAP_1\"           \"UMAP_2\"           \"Healthy_module1\"  \"Healthy_module2\" \n",
       " [5] \"Healthy_module3\"  \"Healthy_module4\"  \"Healthy_module5\"  \"Healthy_module6\" \n",
       " [9] \"Healthy_module7\"  \"Healthy_module8\"  \"Healthy_module9\"  \"Healthy_module10\"\n",
       "[13] \"Healthy_module11\" \"Healthy_module12\" \"Healthy_module13\" \"Healthy_module14\"\n",
       "[17] \"Healthy_module15\" \"Healthy_module16\" \"BE_module1\"       \"BE_module3\"      \n",
       "[21] \"BE_module4\"       \"BE_module5\"       \"BE_module6\"       \"BE_module7\"      \n",
       "[25] \"BE_module8\"       \"BE_module10\"      \"BE_module11\"      \"BE_module12\"     \n",
       "[29] \"BE_module14\"      \"BE_module15\"      \"BE_module16\"      \"BE_module17\"     \n",
       "[33] \"BE_module18\"      \"BE_module19\"      \"BE_module21\"     "
      ]
     },
     "metadata": {},
     "output_type": "display_data"
    }
   ],
   "source": [
    "head(plot_df)\n",
    "\n",
    "colnames(plot_df)"
   ]
  },
  {
   "cell_type": "code",
   "execution_count": 21,
   "id": "13c36cc6",
   "metadata": {},
   "outputs": [],
   "source": [
    "plot_df <- cbind( t(Healthy_moduleScore),BE_moduleScore) %>% as.data.frame()\n",
    "\n",
    "# plot_df <- plot_df %>%\n",
    "#   rename_with(~ gsub(\"Healthy_module\", \"module_Healthy\", .x)) %>%\n",
    "#   rename_with(~ gsub(\"BE_module\", \"module_BE\", .x))\n",
    "\n",
    "colnames(plot_df) <- paste0('Module_', seq(1:ncol(plot_df)))"
   ]
  },
  {
   "cell_type": "code",
   "execution_count": 22,
   "id": "57642614",
   "metadata": {},
   "outputs": [
    {
     "data": {
      "text/html": [
       "<table class=\"dataframe\">\n",
       "<caption>A data.frame: 6 × 33</caption>\n",
       "<thead>\n",
       "\t<tr><th></th><th scope=col>Module_1</th><th scope=col>Module_2</th><th scope=col>Module_3</th><th scope=col>Module_4</th><th scope=col>Module_5</th><th scope=col>Module_6</th><th scope=col>Module_7</th><th scope=col>Module_8</th><th scope=col>Module_9</th><th scope=col>Module_10</th><th scope=col>⋯</th><th scope=col>Module_24</th><th scope=col>Module_25</th><th scope=col>Module_26</th><th scope=col>Module_27</th><th scope=col>Module_28</th><th scope=col>Module_29</th><th scope=col>Module_30</th><th scope=col>Module_31</th><th scope=col>Module_32</th><th scope=col>Module_33</th></tr>\n",
       "\t<tr><th></th><th scope=col>&lt;dbl&gt;</th><th scope=col>&lt;dbl&gt;</th><th scope=col>&lt;dbl&gt;</th><th scope=col>&lt;dbl&gt;</th><th scope=col>&lt;dbl&gt;</th><th scope=col>&lt;dbl&gt;</th><th scope=col>&lt;dbl&gt;</th><th scope=col>&lt;dbl&gt;</th><th scope=col>&lt;dbl&gt;</th><th scope=col>&lt;dbl&gt;</th><th scope=col>⋯</th><th scope=col>&lt;dbl&gt;</th><th scope=col>&lt;dbl&gt;</th><th scope=col>&lt;dbl&gt;</th><th scope=col>&lt;dbl&gt;</th><th scope=col>&lt;dbl&gt;</th><th scope=col>&lt;dbl&gt;</th><th scope=col>&lt;dbl&gt;</th><th scope=col>&lt;dbl&gt;</th><th scope=col>&lt;dbl&gt;</th><th scope=col>&lt;dbl&gt;</th></tr>\n",
       "</thead>\n",
       "<tbody>\n",
       "\t<tr><th scope=row>SRR8513799-CTCACACGTCACCCAG-1</th><td>0.0000000</td><td>0.3613220</td><td>0.43939897</td><td>0.2947231</td><td>0.1715998</td><td>0.7037287</td><td>0.1405970</td><td>0.2527599</td><td>0.08333333</td><td>0.14217210</td><td>⋯</td><td>0.6041700</td><td>0.16490311</td><td>0.16345655</td><td>0.16250000</td><td>0.7843992</td><td>0.18755441</td><td>0.1980326</td><td>0.9714024</td><td>0.3293303</td><td>0.3863923</td></tr>\n",
       "\t<tr><th scope=row>SRR8513799-TACAGTGGTCATCCCT-1</th><td>0.0000000</td><td>0.3302034</td><td>0.23881358</td><td>0.3788250</td><td>0.1490074</td><td>0.7640994</td><td>0.1552026</td><td>0.3008029</td><td>0.07220352</td><td>0.10198830</td><td>⋯</td><td>0.3631629</td><td>0.12318697</td><td>0.11749382</td><td>0.09530201</td><td>0.8194613</td><td>0.19878126</td><td>0.2211749</td><td>0.9418884</td><td>0.3262650</td><td>0.2179756</td></tr>\n",
       "\t<tr><th scope=row>SRR8513799-GCACATACACTGTCGG-1</th><td>0.0000000</td><td>0.2978305</td><td>0.17782149</td><td>0.3959144</td><td>0.1702725</td><td>0.7484408</td><td>0.1676972</td><td>0.3083297</td><td>0.09605312</td><td>0.09152047</td><td>⋯</td><td>0.3497916</td><td>0.11810447</td><td>0.14177169</td><td>0.09052013</td><td>0.8098503</td><td>0.17566716</td><td>0.2338687</td><td>0.9772823</td><td>0.2670166</td><td>0.3791379</td></tr>\n",
       "\t<tr><th scope=row>SRR8513799-CTGAAACTCTGGCGAC-1</th><td>0.0000000</td><td>0.3201695</td><td>0.05721193</td><td>0.4328674</td><td>0.1113028</td><td>0.7571749</td><td>0.1508529</td><td>0.2404731</td><td>0.07201646</td><td>0.27314954</td><td>⋯</td><td>0.2070269</td><td>0.29442714</td><td>0.11704758</td><td>0.10461409</td><td>0.8323738</td><td>0.20832708</td><td>0.1673095</td><td>0.9882021</td><td>0.1861432</td><td>0.1988469</td></tr>\n",
       "\t<tr><th scope=row>SRR8513799-AGTAGTCAGTGAAGAG-1</th><td>0.0000000</td><td>0.2064068</td><td>0.22242499</td><td>0.2893549</td><td>0.1786818</td><td>0.7285020</td><td>0.4907463</td><td>0.2143369</td><td>0.02431725</td><td>0.06631579</td><td>⋯</td><td>0.3584437</td><td>0.07611450</td><td>0.06846771</td><td>0.00000000</td><td>0.7419980</td><td>0.10911656</td><td>0.5118768</td><td>0.9741896</td><td>0.2280495</td><td>0.3802069</td></tr>\n",
       "\t<tr><th scope=row>SRR8513799-ATCCGAACAACGATGG-1</th><td>0.2070898</td><td>0.3307797</td><td>0.14904963</td><td>0.1803214</td><td>0.1575779</td><td>0.4633409</td><td>0.5504691</td><td>0.3874982</td><td>0.15852974</td><td>0.04970760</td><td>⋯</td><td>0.3044256</td><td>0.07648053</td><td>0.04707230</td><td>0.19236577</td><td>0.4978345</td><td>0.07057305</td><td>0.5531151</td><td>0.9891566</td><td>0.0408566</td><td>0.4649307</td></tr>\n",
       "</tbody>\n",
       "</table>\n"
      ],
      "text/latex": [
       "A data.frame: 6 × 33\n",
       "\\begin{tabular}{r|lllllllllllllllllllll}\n",
       "  & Module\\_1 & Module\\_2 & Module\\_3 & Module\\_4 & Module\\_5 & Module\\_6 & Module\\_7 & Module\\_8 & Module\\_9 & Module\\_10 & ⋯ & Module\\_24 & Module\\_25 & Module\\_26 & Module\\_27 & Module\\_28 & Module\\_29 & Module\\_30 & Module\\_31 & Module\\_32 & Module\\_33\\\\\n",
       "  & <dbl> & <dbl> & <dbl> & <dbl> & <dbl> & <dbl> & <dbl> & <dbl> & <dbl> & <dbl> & ⋯ & <dbl> & <dbl> & <dbl> & <dbl> & <dbl> & <dbl> & <dbl> & <dbl> & <dbl> & <dbl>\\\\\n",
       "\\hline\n",
       "\tSRR8513799-CTCACACGTCACCCAG-1 & 0.0000000 & 0.3613220 & 0.43939897 & 0.2947231 & 0.1715998 & 0.7037287 & 0.1405970 & 0.2527599 & 0.08333333 & 0.14217210 & ⋯ & 0.6041700 & 0.16490311 & 0.16345655 & 0.16250000 & 0.7843992 & 0.18755441 & 0.1980326 & 0.9714024 & 0.3293303 & 0.3863923\\\\\n",
       "\tSRR8513799-TACAGTGGTCATCCCT-1 & 0.0000000 & 0.3302034 & 0.23881358 & 0.3788250 & 0.1490074 & 0.7640994 & 0.1552026 & 0.3008029 & 0.07220352 & 0.10198830 & ⋯ & 0.3631629 & 0.12318697 & 0.11749382 & 0.09530201 & 0.8194613 & 0.19878126 & 0.2211749 & 0.9418884 & 0.3262650 & 0.2179756\\\\\n",
       "\tSRR8513799-GCACATACACTGTCGG-1 & 0.0000000 & 0.2978305 & 0.17782149 & 0.3959144 & 0.1702725 & 0.7484408 & 0.1676972 & 0.3083297 & 0.09605312 & 0.09152047 & ⋯ & 0.3497916 & 0.11810447 & 0.14177169 & 0.09052013 & 0.8098503 & 0.17566716 & 0.2338687 & 0.9772823 & 0.2670166 & 0.3791379\\\\\n",
       "\tSRR8513799-CTGAAACTCTGGCGAC-1 & 0.0000000 & 0.3201695 & 0.05721193 & 0.4328674 & 0.1113028 & 0.7571749 & 0.1508529 & 0.2404731 & 0.07201646 & 0.27314954 & ⋯ & 0.2070269 & 0.29442714 & 0.11704758 & 0.10461409 & 0.8323738 & 0.20832708 & 0.1673095 & 0.9882021 & 0.1861432 & 0.1988469\\\\\n",
       "\tSRR8513799-AGTAGTCAGTGAAGAG-1 & 0.0000000 & 0.2064068 & 0.22242499 & 0.2893549 & 0.1786818 & 0.7285020 & 0.4907463 & 0.2143369 & 0.02431725 & 0.06631579 & ⋯ & 0.3584437 & 0.07611450 & 0.06846771 & 0.00000000 & 0.7419980 & 0.10911656 & 0.5118768 & 0.9741896 & 0.2280495 & 0.3802069\\\\\n",
       "\tSRR8513799-ATCCGAACAACGATGG-1 & 0.2070898 & 0.3307797 & 0.14904963 & 0.1803214 & 0.1575779 & 0.4633409 & 0.5504691 & 0.3874982 & 0.15852974 & 0.04970760 & ⋯ & 0.3044256 & 0.07648053 & 0.04707230 & 0.19236577 & 0.4978345 & 0.07057305 & 0.5531151 & 0.9891566 & 0.0408566 & 0.4649307\\\\\n",
       "\\end{tabular}\n"
      ],
      "text/markdown": [
       "\n",
       "A data.frame: 6 × 33\n",
       "\n",
       "| <!--/--> | Module_1 &lt;dbl&gt; | Module_2 &lt;dbl&gt; | Module_3 &lt;dbl&gt; | Module_4 &lt;dbl&gt; | Module_5 &lt;dbl&gt; | Module_6 &lt;dbl&gt; | Module_7 &lt;dbl&gt; | Module_8 &lt;dbl&gt; | Module_9 &lt;dbl&gt; | Module_10 &lt;dbl&gt; | ⋯ ⋯ | Module_24 &lt;dbl&gt; | Module_25 &lt;dbl&gt; | Module_26 &lt;dbl&gt; | Module_27 &lt;dbl&gt; | Module_28 &lt;dbl&gt; | Module_29 &lt;dbl&gt; | Module_30 &lt;dbl&gt; | Module_31 &lt;dbl&gt; | Module_32 &lt;dbl&gt; | Module_33 &lt;dbl&gt; |\n",
       "|---|---|---|---|---|---|---|---|---|---|---|---|---|---|---|---|---|---|---|---|---|---|\n",
       "| SRR8513799-CTCACACGTCACCCAG-1 | 0.0000000 | 0.3613220 | 0.43939897 | 0.2947231 | 0.1715998 | 0.7037287 | 0.1405970 | 0.2527599 | 0.08333333 | 0.14217210 | ⋯ | 0.6041700 | 0.16490311 | 0.16345655 | 0.16250000 | 0.7843992 | 0.18755441 | 0.1980326 | 0.9714024 | 0.3293303 | 0.3863923 |\n",
       "| SRR8513799-TACAGTGGTCATCCCT-1 | 0.0000000 | 0.3302034 | 0.23881358 | 0.3788250 | 0.1490074 | 0.7640994 | 0.1552026 | 0.3008029 | 0.07220352 | 0.10198830 | ⋯ | 0.3631629 | 0.12318697 | 0.11749382 | 0.09530201 | 0.8194613 | 0.19878126 | 0.2211749 | 0.9418884 | 0.3262650 | 0.2179756 |\n",
       "| SRR8513799-GCACATACACTGTCGG-1 | 0.0000000 | 0.2978305 | 0.17782149 | 0.3959144 | 0.1702725 | 0.7484408 | 0.1676972 | 0.3083297 | 0.09605312 | 0.09152047 | ⋯ | 0.3497916 | 0.11810447 | 0.14177169 | 0.09052013 | 0.8098503 | 0.17566716 | 0.2338687 | 0.9772823 | 0.2670166 | 0.3791379 |\n",
       "| SRR8513799-CTGAAACTCTGGCGAC-1 | 0.0000000 | 0.3201695 | 0.05721193 | 0.4328674 | 0.1113028 | 0.7571749 | 0.1508529 | 0.2404731 | 0.07201646 | 0.27314954 | ⋯ | 0.2070269 | 0.29442714 | 0.11704758 | 0.10461409 | 0.8323738 | 0.20832708 | 0.1673095 | 0.9882021 | 0.1861432 | 0.1988469 |\n",
       "| SRR8513799-AGTAGTCAGTGAAGAG-1 | 0.0000000 | 0.2064068 | 0.22242499 | 0.2893549 | 0.1786818 | 0.7285020 | 0.4907463 | 0.2143369 | 0.02431725 | 0.06631579 | ⋯ | 0.3584437 | 0.07611450 | 0.06846771 | 0.00000000 | 0.7419980 | 0.10911656 | 0.5118768 | 0.9741896 | 0.2280495 | 0.3802069 |\n",
       "| SRR8513799-ATCCGAACAACGATGG-1 | 0.2070898 | 0.3307797 | 0.14904963 | 0.1803214 | 0.1575779 | 0.4633409 | 0.5504691 | 0.3874982 | 0.15852974 | 0.04970760 | ⋯ | 0.3044256 | 0.07648053 | 0.04707230 | 0.19236577 | 0.4978345 | 0.07057305 | 0.5531151 | 0.9891566 | 0.0408566 | 0.4649307 |\n",
       "\n"
      ],
      "text/plain": [
       "                              Module_1  Module_2  Module_3   Module_4 \n",
       "SRR8513799-CTCACACGTCACCCAG-1 0.0000000 0.3613220 0.43939897 0.2947231\n",
       "SRR8513799-TACAGTGGTCATCCCT-1 0.0000000 0.3302034 0.23881358 0.3788250\n",
       "SRR8513799-GCACATACACTGTCGG-1 0.0000000 0.2978305 0.17782149 0.3959144\n",
       "SRR8513799-CTGAAACTCTGGCGAC-1 0.0000000 0.3201695 0.05721193 0.4328674\n",
       "SRR8513799-AGTAGTCAGTGAAGAG-1 0.0000000 0.2064068 0.22242499 0.2893549\n",
       "SRR8513799-ATCCGAACAACGATGG-1 0.2070898 0.3307797 0.14904963 0.1803214\n",
       "                              Module_5  Module_6  Module_7  Module_8 \n",
       "SRR8513799-CTCACACGTCACCCAG-1 0.1715998 0.7037287 0.1405970 0.2527599\n",
       "SRR8513799-TACAGTGGTCATCCCT-1 0.1490074 0.7640994 0.1552026 0.3008029\n",
       "SRR8513799-GCACATACACTGTCGG-1 0.1702725 0.7484408 0.1676972 0.3083297\n",
       "SRR8513799-CTGAAACTCTGGCGAC-1 0.1113028 0.7571749 0.1508529 0.2404731\n",
       "SRR8513799-AGTAGTCAGTGAAGAG-1 0.1786818 0.7285020 0.4907463 0.2143369\n",
       "SRR8513799-ATCCGAACAACGATGG-1 0.1575779 0.4633409 0.5504691 0.3874982\n",
       "                              Module_9   Module_10  ⋯ Module_24 Module_25 \n",
       "SRR8513799-CTCACACGTCACCCAG-1 0.08333333 0.14217210 ⋯ 0.6041700 0.16490311\n",
       "SRR8513799-TACAGTGGTCATCCCT-1 0.07220352 0.10198830 ⋯ 0.3631629 0.12318697\n",
       "SRR8513799-GCACATACACTGTCGG-1 0.09605312 0.09152047 ⋯ 0.3497916 0.11810447\n",
       "SRR8513799-CTGAAACTCTGGCGAC-1 0.07201646 0.27314954 ⋯ 0.2070269 0.29442714\n",
       "SRR8513799-AGTAGTCAGTGAAGAG-1 0.02431725 0.06631579 ⋯ 0.3584437 0.07611450\n",
       "SRR8513799-ATCCGAACAACGATGG-1 0.15852974 0.04970760 ⋯ 0.3044256 0.07648053\n",
       "                              Module_26  Module_27  Module_28 Module_29 \n",
       "SRR8513799-CTCACACGTCACCCAG-1 0.16345655 0.16250000 0.7843992 0.18755441\n",
       "SRR8513799-TACAGTGGTCATCCCT-1 0.11749382 0.09530201 0.8194613 0.19878126\n",
       "SRR8513799-GCACATACACTGTCGG-1 0.14177169 0.09052013 0.8098503 0.17566716\n",
       "SRR8513799-CTGAAACTCTGGCGAC-1 0.11704758 0.10461409 0.8323738 0.20832708\n",
       "SRR8513799-AGTAGTCAGTGAAGAG-1 0.06846771 0.00000000 0.7419980 0.10911656\n",
       "SRR8513799-ATCCGAACAACGATGG-1 0.04707230 0.19236577 0.4978345 0.07057305\n",
       "                              Module_30 Module_31 Module_32 Module_33\n",
       "SRR8513799-CTCACACGTCACCCAG-1 0.1980326 0.9714024 0.3293303 0.3863923\n",
       "SRR8513799-TACAGTGGTCATCCCT-1 0.2211749 0.9418884 0.3262650 0.2179756\n",
       "SRR8513799-GCACATACACTGTCGG-1 0.2338687 0.9772823 0.2670166 0.3791379\n",
       "SRR8513799-CTGAAACTCTGGCGAC-1 0.1673095 0.9882021 0.1861432 0.1988469\n",
       "SRR8513799-AGTAGTCAGTGAAGAG-1 0.5118768 0.9741896 0.2280495 0.3802069\n",
       "SRR8513799-ATCCGAACAACGATGG-1 0.5531151 0.9891566 0.0408566 0.4649307"
      ]
     },
     "metadata": {},
     "output_type": "display_data"
    },
    {
     "data": {
      "text/html": [
       "<table class=\"dataframe\">\n",
       "<caption>A matrix: 5 × 5 of type dbl</caption>\n",
       "<thead>\n",
       "\t<tr><th></th><th scope=col>Module_1</th><th scope=col>Module_2</th><th scope=col>Module_3</th><th scope=col>Module_4</th><th scope=col>Module_5</th></tr>\n",
       "</thead>\n",
       "<tbody>\n",
       "\t<tr><th scope=row>SRR8513799-CTCACACGTCACCCAG-1</th><td>0</td><td>0.3613220</td><td>0.43939897</td><td>0.2947231</td><td>0.1715998</td></tr>\n",
       "\t<tr><th scope=row>SRR8513799-TACAGTGGTCATCCCT-1</th><td>0</td><td>0.3302034</td><td>0.23881358</td><td>0.3788250</td><td>0.1490074</td></tr>\n",
       "\t<tr><th scope=row>SRR8513799-GCACATACACTGTCGG-1</th><td>0</td><td>0.2978305</td><td>0.17782149</td><td>0.3959144</td><td>0.1702725</td></tr>\n",
       "\t<tr><th scope=row>SRR8513799-CTGAAACTCTGGCGAC-1</th><td>0</td><td>0.3201695</td><td>0.05721193</td><td>0.4328674</td><td>0.1113028</td></tr>\n",
       "\t<tr><th scope=row>SRR8513799-AGTAGTCAGTGAAGAG-1</th><td>0</td><td>0.2064068</td><td>0.22242499</td><td>0.2893549</td><td>0.1786818</td></tr>\n",
       "</tbody>\n",
       "</table>\n"
      ],
      "text/latex": [
       "A matrix: 5 × 5 of type dbl\n",
       "\\begin{tabular}{r|lllll}\n",
       "  & Module\\_1 & Module\\_2 & Module\\_3 & Module\\_4 & Module\\_5\\\\\n",
       "\\hline\n",
       "\tSRR8513799-CTCACACGTCACCCAG-1 & 0 & 0.3613220 & 0.43939897 & 0.2947231 & 0.1715998\\\\\n",
       "\tSRR8513799-TACAGTGGTCATCCCT-1 & 0 & 0.3302034 & 0.23881358 & 0.3788250 & 0.1490074\\\\\n",
       "\tSRR8513799-GCACATACACTGTCGG-1 & 0 & 0.2978305 & 0.17782149 & 0.3959144 & 0.1702725\\\\\n",
       "\tSRR8513799-CTGAAACTCTGGCGAC-1 & 0 & 0.3201695 & 0.05721193 & 0.4328674 & 0.1113028\\\\\n",
       "\tSRR8513799-AGTAGTCAGTGAAGAG-1 & 0 & 0.2064068 & 0.22242499 & 0.2893549 & 0.1786818\\\\\n",
       "\\end{tabular}\n"
      ],
      "text/markdown": [
       "\n",
       "A matrix: 5 × 5 of type dbl\n",
       "\n",
       "| <!--/--> | Module_1 | Module_2 | Module_3 | Module_4 | Module_5 |\n",
       "|---|---|---|---|---|---|\n",
       "| SRR8513799-CTCACACGTCACCCAG-1 | 0 | 0.3613220 | 0.43939897 | 0.2947231 | 0.1715998 |\n",
       "| SRR8513799-TACAGTGGTCATCCCT-1 | 0 | 0.3302034 | 0.23881358 | 0.3788250 | 0.1490074 |\n",
       "| SRR8513799-GCACATACACTGTCGG-1 | 0 | 0.2978305 | 0.17782149 | 0.3959144 | 0.1702725 |\n",
       "| SRR8513799-CTGAAACTCTGGCGAC-1 | 0 | 0.3201695 | 0.05721193 | 0.4328674 | 0.1113028 |\n",
       "| SRR8513799-AGTAGTCAGTGAAGAG-1 | 0 | 0.2064068 | 0.22242499 | 0.2893549 | 0.1786818 |\n",
       "\n"
      ],
      "text/plain": [
       "                              Module_1 Module_2  Module_3   Module_4  Module_5 \n",
       "SRR8513799-CTCACACGTCACCCAG-1 0        0.3613220 0.43939897 0.2947231 0.1715998\n",
       "SRR8513799-TACAGTGGTCATCCCT-1 0        0.3302034 0.23881358 0.3788250 0.1490074\n",
       "SRR8513799-GCACATACACTGTCGG-1 0        0.2978305 0.17782149 0.3959144 0.1702725\n",
       "SRR8513799-CTGAAACTCTGGCGAC-1 0        0.3201695 0.05721193 0.4328674 0.1113028\n",
       "SRR8513799-AGTAGTCAGTGAAGAG-1 0        0.2064068 0.22242499 0.2893549 0.1786818"
      ]
     },
     "metadata": {},
     "output_type": "display_data"
    }
   ],
   "source": [
    "head(plot_df)\n",
    "\n",
    " as.matrix(plot_df)[1:5,1:5]"
   ]
  },
  {
   "cell_type": "code",
   "execution_count": 23,
   "id": "636cb2bc",
   "metadata": {
    "scrolled": false
   },
   "outputs": [],
   "source": [
    "# plot_df <- as.matrix(plot_df[,-c(1,2)])  # Remove non-numeric columns if necessary\n",
    "AllTissue_merge[['module']] <- CreateDimReducObject(\n",
    "  embeddings = as.matrix(plot_df),  # Ensure this is a numeric matrix\n",
    "  key = 'module_',  # Set the key for the reduction\n",
    "  assay = 'RNA'  # Specify the assay if necessary\n",
    ")"
   ]
  },
  {
   "cell_type": "code",
   "execution_count": 28,
   "id": "f29eb0da",
   "metadata": {
    "scrolled": true
   },
   "outputs": [
    {
     "name": "stderr",
     "output_type": "stream",
     "text": [
      "Warning message:\n",
      "“The default method for RunUMAP has changed from calling Python UMAP via reticulate to the R-native UWOT using the cosine metric\n",
      "To use Python UMAP via reticulate, set umap.method to 'umap-learn' and metric to 'correlation'\n",
      "This message will be shown once per session”\n",
      "13:48:21 UMAP embedding parameters a = 0.9922 b = 1.112\n",
      "\n",
      "13:48:21 Read 79522 rows and found 33 numeric columns\n",
      "\n",
      "13:48:21 Using Annoy for neighbor search, n_neighbors = 30\n",
      "\n",
      "13:48:21 Building Annoy index with metric = cosine, n_trees = 50\n",
      "\n",
      "0%   10   20   30   40   50   60   70   80   90   100%\n",
      "\n",
      "[----|----|----|----|----|----|----|----|----|----|\n",
      "\n",
      "*\n",
      "*\n",
      "*\n",
      "*\n",
      "*\n",
      "*\n",
      "*\n",
      "*\n",
      "*\n",
      "*\n",
      "*\n",
      "*\n",
      "*\n",
      "*\n",
      "*\n",
      "*\n",
      "*\n",
      "*\n",
      "*\n",
      "*\n",
      "*\n",
      "*\n",
      "*\n",
      "*\n",
      "*\n",
      "*\n",
      "*\n",
      "*\n",
      "*\n",
      "*\n",
      "*\n",
      "*\n",
      "*\n",
      "*\n",
      "*\n",
      "*\n",
      "*\n",
      "*\n",
      "*\n",
      "*\n",
      "*\n",
      "*\n",
      "*\n",
      "*\n",
      "*\n",
      "*\n",
      "*\n",
      "*\n",
      "*\n",
      "*\n",
      "|\n",
      "\n",
      "13:48:26 Writing NN index file to temp file /tmp/RtmpT4xKb1/file116b8975eb5538\n",
      "\n",
      "13:48:26 Searching Annoy index using 1 thread, search_k = 3000\n",
      "\n",
      "13:48:50 Annoy recall = 100%\n",
      "\n",
      "13:48:51 Commencing smooth kNN distance calibration using 1 thread\n",
      " with target n_neighbors = 30\n",
      "\n",
      "13:48:54 Initializing from normalized Laplacian + noise (using RSpectra)\n",
      "\n",
      "13:48:56 Commencing optimization for 200 epochs, with 3598126 positive edges\n",
      "\n",
      "13:49:21 Optimization finished\n",
      "\n"
     ]
    }
   ],
   "source": [
    "AllTissue_merge <- RunUMAP(AllTissue_merge,reduction = 'module',dims = 1:ncol(plot_df))"
   ]
  },
  {
   "cell_type": "code",
   "execution_count": 32,
   "id": "8a435970",
   "metadata": {},
   "outputs": [],
   "source": [
    "cluster_cols <- c(\n",
    "  \"#DC050C\", \"#FB8072\", \"#1965B0\", \"#7BAFDE\", \"#882E72\",\n",
    "  \"#B17BA6\", \"#FF7F00\", \"#FDB462\", \"#E7298A\", \"#E78AC3\",\n",
    "  \"#33A02C\", \"#B2DF8A\", \"#55A1B1\", \"#8DD3C7\", \"#A6761D\",\n",
    "  \"#E6AB02\", \"#7570B3\", \"#BEAED4\", \"#666666\", \"#999999\",\n",
    "  \"#aa8282\", \"#d4b7b7\", \"#8600bf\", \"#ba5ce3\", \"#808000\",\n",
    "  \"#aeae5c\", \"#1e90ff\", \"#00bfff\", \"#56ff0d\", \"#ffff00\")"
   ]
  },
  {
   "cell_type": "code",
   "execution_count": 52,
   "id": "a2556da9",
   "metadata": {},
   "outputs": [
    {
     "data": {
      "text/html": [
       "<strong>pdf:</strong> 2"
      ],
      "text/latex": [
       "\\textbf{pdf:} 2"
      ],
      "text/markdown": [
       "**pdf:** 2"
      ],
      "text/plain": [
       "pdf \n",
       "  2 "
      ]
     },
     "metadata": {},
     "output_type": "display_data"
    }
   ],
   "source": [
    "options(repr.plot.width =17, repr.plot.height=24)\n",
    "# pdf('./05_FiguresforPresentation/04_AUC_Reduction_UMAP.pdf',width = 17,height = 24)\n",
    "png('./05_FiguresforPresentation/04_AUC_Reduction_UMAP.png',width = 17,height = 24,res = 300,units = 'in')\n",
    "DimPlot(AllTissue_merge,reduction = \"umap\",group.by = c(\"Detailed_Cell_Type\",\"Tissue_in_paper\",'sample_name'),raster=FALSE,pt.size = 0.2,ncol = 1,cols =  rep(cluster_cols,3))\n",
    "dev.off()"
   ]
  }
 ],
 "metadata": {
  "kernelspec": {
   "display_name": "R",
   "language": "R",
   "name": "ir"
  },
  "language_info": {
   "codemirror_mode": "r",
   "file_extension": ".r",
   "mimetype": "text/x-r-source",
   "name": "R",
   "pygments_lexer": "r",
   "version": "4.4.2"
  }
 },
 "nbformat": 4,
 "nbformat_minor": 5
}
